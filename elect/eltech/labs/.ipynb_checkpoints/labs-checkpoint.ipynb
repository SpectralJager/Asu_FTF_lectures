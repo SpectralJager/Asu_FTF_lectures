{
 "cells": [
  {
   "cell_type": "code",
   "execution_count": 1,
   "id": "2dd5b2af-8226-4411-8988-92ee85171ab1",
   "metadata": {},
   "outputs": [],
   "source": [
    "import cmath as c\n",
    "from math import *"
   ]
  },
  {
   "cell_type": "markdown",
   "id": "75468119-5395-41b5-9f0f-3f03351de4d8",
   "metadata": {},
   "source": [
    "$$\n",
    "Z = \\frac{U}{I}\n",
    "$$"
   ]
  },
  {
   "cell_type": "code",
   "execution_count": null,
   "id": "7dd91bf6-c559-443a-9f83-e49d1a8bfaf8",
   "metadata": {},
   "outputs": [],
   "source": [
    "U = c.rect(10,0)\n",
    "I = c.rect("
   ]
  }
 ],
 "metadata": {
  "kernelspec": {
   "display_name": "Python 3",
   "language": "python",
   "name": "python3"
  },
  "language_info": {
   "codemirror_mode": {
    "name": "ipython",
    "version": 3
   },
   "file_extension": ".py",
   "mimetype": "text/x-python",
   "name": "python",
   "nbconvert_exporter": "python",
   "pygments_lexer": "ipython3",
   "version": "3.8.3"
  }
 },
 "nbformat": 4,
 "nbformat_minor": 5
}
