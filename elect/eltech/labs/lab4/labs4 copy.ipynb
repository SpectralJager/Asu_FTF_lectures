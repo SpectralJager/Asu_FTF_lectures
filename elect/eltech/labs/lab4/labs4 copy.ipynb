{
 "cells": [
  {
   "cell_type": "code",
   "execution_count": 1,
   "id": "2dd5b2af-8226-4411-8988-92ee85171ab1",
   "metadata": {},
   "outputs": [],
   "source": [
    "import cmath as c\n",
    "from math import *"
   ]
  },
  {
   "cell_type": "code",
   "execution_count": 2,
   "id": "de81f709",
   "metadata": {},
   "outputs": [],
   "source": [
    "def printData(name:str,data:complex):\n",
    "\tprint(f\"{name}:\\n- алг: {str(data)},\\n- показ: {abs(data)}e^({degrees(c.phase(data))}j)\\n\")"
   ]
  },
  {
   "cell_type": "markdown",
   "id": "75468119-5395-41b5-9f0f-3f03351de4d8",
   "metadata": {},
   "source": [
    "# 1.1\n",
    "## Calculations"
   ]
  },
  {
   "cell_type": "code",
   "execution_count": 3,
   "id": "7dd91bf6-c559-443a-9f83-e49d1a8bfaf8",
   "metadata": {},
   "outputs": [
    {
     "name": "stdout",
     "output_type": "stream",
     "text": [
      "U:\n",
      "- алг: (10+0j),\n",
      "- показ: 10.0e^(0.0j)\n",
      "\n",
      "Omega: 314.1592653589793\n",
      "\n",
      "Zc:\n",
      "- алг: -15.915494309189533j,\n",
      "- показ: 15.915494309189533e^(-90.0j)\n",
      "\n",
      "Zr:\n",
      "- алг: (0.01+0j),\n",
      "- показ: 0.01e^(0.0j)\n",
      "\n",
      "Z:\n",
      "- алг: (0.01-15.915494309189533j),\n",
      "- показ: 15.915497450781878e^(-89.96400000473741j)\n",
      "\n",
      "I:\n",
      "- алг: (0.00039478402018909017+0.6283182826678432j),\n",
      "- показ: 0.6283184066928886e^(89.96400000473741j)\n",
      "\n",
      "Uc:\n",
      "- алг: (9.9999960521598-0.006283182826678431j),\n",
      "- показ: 9.999998026079705e^(-0.035999995262591004j)\n",
      "\n",
      "Ur:\n",
      "- алг: (3.947840201890902e-06+0.006283182826678432j),\n",
      "- показ: 0.006283184066928888e^(89.96400000473741j)\n",
      "\n",
      "I*:\n",
      "- алг: (0.00039478402018909017-0.6283182826678432j),\n",
      "- показ: 0.6283184066928886e^(-89.96400000473741j)\n",
      "\n",
      "Ssrc:\n",
      "- алг: (0.003947840201890902-6.2831828266784315j),\n",
      "- показ: 6.283184066928887e^(-89.96400000473741j)\n",
      "\n",
      "Spr:\n",
      "- алг: (0.003947840201890902-6.283182826678431j),\n",
      "- показ: 6.283184066928886e^(-89.96400000473741j)\n",
      "\n"
     ]
    }
   ],
   "source": [
    "U = complex(10,0)\n",
    "printData('U',U)\n",
    "omega = 2*pi*50\n",
    "print(f\"Omega: {omega}\\n\")\n",
    "Zc = complex(0, -(1/(omega*200*10**-6)))\n",
    "printData('Zc',Zc)\n",
    "Zr = complex(0.01,0)\n",
    "printData('Zr',Zr)\n",
    "Z = Zr + Zc\n",
    "printData('Z',Z)\n",
    "I = U/Z\n",
    "printData('I',I)\n",
    "Uc = I*Zc\n",
    "printData('Uc',Uc)\n",
    "Ur = I*Zr\n",
    "printData('Ur',Ur)\n",
    "_I = complex(I.real,-I.imag)\n",
    "printData('I*',_I)\n",
    "Ssrc = _I*U\n",
    "printData('Ssrc',Ssrc)\n",
    "Spr = (abs(I)**2)*0.01+(abs(I)**2)*Zc\n",
    "printData('Spr',Spr)"
   ]
  },
  {
   "cell_type": "markdown",
   "id": "41a2cf1e",
   "metadata": {},
   "source": [
    "## Measurements"
   ]
  },
  {
   "cell_type": "code",
   "execution_count": 4,
   "id": "7dd91bf6-c559-443a-9f83-e49d1a8bfaf8",
   "metadata": {},
   "outputs": [
    {
     "name": "stdout",
     "output_type": "stream",
     "text": [
      "U: 10\n",
      "Umc: 14\n",
      "Umr2: 0.0099\n",
      "I: 0.63\n",
      "Omega: 314.1592653589793\n",
      "tau: 2e-06\n",
      "phi: 0.03599999526259101\n",
      "Uc:\n",
      "- алг: (9.899492982530267-0.006220034885636161j),\n",
      "- показ: 9.899494936611665e^(-0.03599999526259102j)\n",
      "\n",
      "Ur:\n",
      "- алг: (4.398453240556627e-06+0.007000355751932118j),\n",
      "- показ: 0.0070003571337468205e^(89.96400000473741j)\n",
      "\n",
      "I:\n",
      "- алг: (0.0003958405962164864+0.6299998756430214j),\n",
      "- показ: 0.63e^(89.96400000473741j)\n",
      "\n"
     ]
    }
   ],
   "source": [
    "U = 10\n",
    "print(f\"U: {U}\")\n",
    "Umc = 14\n",
    "print(f\"Umc: {Umc}\")\n",
    "UmR2 = 9.9*10**-3\n",
    "print(f\"Umr2: {UmR2}\")\n",
    "I = 0.63\n",
    "print(f\"I: {I}\")\n",
    "omega = 2*pi*50\n",
    "print(f\"Omega: {omega}\")\n",
    "tau = 2*10**-6\n",
    "print(f\"tau: {tau}\")\n",
    "phi = degrees(atan(omega*tau))\n",
    "print(f\"phi: {phi}\")\n",
    "Uc = c.rect(Umc/2**.5,radians(-phi))\n",
    "printData('Uc',Uc)\n",
    "Ur = c.rect(UmR2/2**.5,radians(-phi+90))\n",
    "printData('Ur',Ur)\n",
    "I = c.rect(I,radians(90-phi))\n",
    "printData('I',I)"
   ]
  },
  {
   "cell_type": "markdown",
   "id": "e77fab7b",
   "metadata": {},
   "source": [
    "# 1.2\n",
    "## Calculations"
   ]
  },
  {
   "cell_type": "code",
   "execution_count": 12,
   "id": "7dd91bf6-c559-443a-9f83-e49d1a8bfaf8",
   "metadata": {},
   "outputs": [
    {
     "name": "stdout",
     "output_type": "stream",
     "text": [
      "U:\n",
      "- алг: (10+0j),\n",
      "- показ: 10.0e^(0.0j)\n",
      "\n",
      "Omega: 314.1592653589793\n",
      "\n",
      "Zc:\n",
      "- алг: -15.915494309189533j,\n",
      "- показ: 15.915494309189533e^(-90.0j)\n",
      "\n",
      "Zr1:\n",
      "- алг: (10+0j),\n",
      "- показ: 10.0e^(0.0j)\n",
      "\n",
      "Zr2:\n",
      "- алг: (0.01+0j),\n",
      "- показ: 0.01e^(0.0j)\n",
      "\n",
      "Z:\n",
      "- алг: (10.01-15.915494309189533j),\n",
      "- показ: 18.801677029080263e^(-57.83228922499438j)\n",
      "\n",
      "I:\n",
      "- алг: (0.28316586638088603+0.45022225124292864j),\n",
      "- показ: 0.5318674490862254e^(57.83228922499438j)\n",
      "\n",
      "Uc:\n",
      "- алг: (7.165509677527331-4.506724734941716j),\n",
      "- показ: 8.464933359174974e^(-32.167710775005624j)\n",
      "\n",
      "Ur1:\n",
      "- алг: (2.8316586638088603+4.502222512429286j),\n",
      "- показ: 5.318674490862254e^(57.83228922499438j)\n",
      "\n",
      "I*:\n",
      "- алг: (0.28316586638088603-0.45022225124292864j),\n",
      "- показ: 0.5318674490862254e^(-57.83228922499438j)\n",
      "\n",
      "Ssrc:\n",
      "- алг: (2.8316586638088603-4.502222512429286j),\n",
      "- показ: 5.318674490862254e^(-57.83228922499438j)\n",
      "\n",
      "Spr:\n",
      "- алг: (2.8316586638088608-4.502222512429286j),\n",
      "- показ: 5.318674490862254e^(-57.83228922499437j)\n",
      "\n"
     ]
    }
   ],
   "source": [
    "U = complex(10,0)\n",
    "printData('U',U)\n",
    "omega = 2*pi*50\n",
    "print(f\"Omega: {omega}\\n\")\n",
    "Zc = complex(0, -(1/(omega*200*10**-6)))\n",
    "printData('Zc',Zc)\n",
    "Zr1 = complex(10,0)\n",
    "printData('Zr1',Zr1)\n",
    "Zr2 = complex(0.01,0)\n",
    "printData('Zr2',Zr2)\n",
    "Z = Zr1 + Zr2 + Zc\n",
    "printData('Z',Z)\n",
    "I = U/Z\n",
    "printData('I',I)\n",
    "Uc = I*Zc\n",
    "printData('Uc',Uc)\n",
    "Ur1 = I*Zr1\n",
    "printData('Ur1',Ur1)\n",
    "_I = complex(I.real,-I.imag)\n",
    "printData('I*',_I)\n",
    "Ssrc = _I*U\n",
    "printData('Ssrc',Ssrc)\n",
    "Spr = (abs(I)**2)*0.01+(abs(I)**2)*10+(abs(I)**2)*Zc\n",
    "printData('Spr',Spr)"
   ]
  },
  {
   "cell_type": "markdown",
   "id": "4ac11c5c",
   "metadata": {},
   "source": [
    "## Measurements"
   ]
  },
  {
   "cell_type": "code",
   "execution_count": 6,
   "id": "7dd91bf6-c559-443a-9f83-e49d1a8bfaf8",
   "metadata": {},
   "outputs": [
    {
     "name": "stdout",
     "output_type": "stream",
     "text": [
      "Ur1: 5.3\n",
      "Ur2: 0.005868986283848344\n",
      "Uc: 8.394131013716152\n",
      "I: 0.53\n",
      "Omega: 314.1592653589793\n",
      "tau: 0.002\n",
      "phi: 32.14190763534206\n",
      "Uc:\n",
      "- алг: (7.107587869647796-4.465829167205889j),\n",
      "- показ: 8.394131013716152e^(-32.14190763534206j)\n",
      "\n",
      "Ur1:\n",
      "- алг: (2.819695635857462+4.487684984613601j),\n",
      "- показ: 5.3e^(57.85809236465795j)\n",
      "\n",
      "I:\n",
      "- алг: (0.28196956358574626+0.44876849846136013j),\n",
      "- показ: 0.53e^(57.85809236465795j)\n",
      "\n"
     ]
    }
   ],
   "source": [
    "Ur1 = 5.3\n",
    "print(f\"Ur1: {Ur1}\")\n",
    "Ur2 = 8.3*10**-3/2**.5\n",
    "print(f\"Ur2: {Ur2}\")\n",
    "Uc = 8.4 - Ur2\n",
    "print(f\"Uc: {Uc}\")\n",
    "I = 0.53\n",
    "print(f\"I: {I}\")\n",
    "omega = 2*pi*50\n",
    "print(f\"Omega: {omega}\")\n",
    "tau = 2*10**-3\n",
    "print(f\"tau: {tau}\")\n",
    "phi = degrees(atan(omega*tau))\n",
    "print(f\"phi: {phi}\")\n",
    "Uc = c.rect(Uc,radians(-phi))\n",
    "printData('Uc',Uc)\n",
    "Ur1 = c.rect(Ur1,radians(90-phi))\n",
    "printData('Ur1',Ur1)\n",
    "I = c.rect(I,radians(90-phi))\n",
    "printData('I',I)"
   ]
  },
  {
   "cell_type": "markdown",
   "id": "75468119-5395-41b5-9f0f-3f03351de4d8",
   "metadata": {},
   "source": [
    "# 2.1\n",
    "## Calculations"
   ]
  },
  {
   "cell_type": "code",
   "execution_count": 7,
   "id": "7dd91bf6-c559-443a-9f83-e49d1a8bfaf8",
   "metadata": {},
   "outputs": [
    {
     "name": "stdout",
     "output_type": "stream",
     "text": [
      "U:\n",
      "- алг: (10+0j),\n",
      "- показ: 10.0e^(0.0j)\n",
      "\n",
      "Omega: 314.1592653589793\n",
      "\n",
      "Zl:\n",
      "- алг: 15.707963267948966j,\n",
      "- показ: 15.707963267948966e^(90.0j)\n",
      "\n",
      "Zr:\n",
      "- алг: (0.01+0j),\n",
      "- показ: 0.01e^(0.0j)\n",
      "\n",
      "Z:\n",
      "- алг: (0.01+15.707963267948966j),\n",
      "- показ: 15.707966451047506e^(89.96352437881643j)\n",
      "\n",
      "I:\n",
      "- алг: (0.00040528457031370165-0.6366195143554104j),\n",
      "- показ: 0.6366196433614828e^(-89.96352437881643j)\n",
      "\n",
      "Ul:\n",
      "- алг: (9.999995947154297+0.006366195143554105j),\n",
      "- показ: 9.999997973576942e^(0.036475621183571325j)\n",
      "\n",
      "Ur:\n",
      "- алг: (4.052845703137017e-06-0.006366195143554104j),\n",
      "- показ: 0.006366196433614828e^(-89.96352437881643j)\n",
      "\n",
      "I*:\n",
      "- алг: (0.00040528457031370165+0.6366195143554104j),\n",
      "- показ: 0.6366196433614828e^(89.96352437881643j)\n",
      "\n",
      "Ssrc:\n",
      "- алг: (0.004052845703137017+6.366195143554104j),\n",
      "- показ: 6.366196433614828e^(89.96352437881643j)\n",
      "\n",
      "Spr:\n",
      "- алг: (0.004052845703137016+6.366195143554104j),\n",
      "- показ: 6.366196433614828e^(89.96352437881643j)\n",
      "\n"
     ]
    }
   ],
   "source": [
    "U = complex(10,0)\n",
    "printData('U',U)\n",
    "omega = 2*pi*50\n",
    "print(f\"Omega: {omega}\\n\")\n",
    "Zl = complex(0, omega*50*10**-3)\n",
    "printData('Zl',Zl)\n",
    "Zr = complex(0.01,0)\n",
    "printData('Zr',Zr)\n",
    "Z = Zr + Zl\n",
    "printData('Z',Z)\n",
    "I = U/Z\n",
    "printData('I',I)\n",
    "Ul = I*Zl\n",
    "printData('Ul',Ul)\n",
    "Ur = I*Zr\n",
    "printData('Ur',Ur)\n",
    "_I = complex(I.real,-I.imag)\n",
    "printData('I*',_I)\n",
    "Ssrc = _I*U\n",
    "printData('Ssrc',Ssrc)\n",
    "Spr = (abs(I)**2)*0.01+(abs(I)**2)*Zl\n",
    "printData('Spr',Spr)"
   ]
  },
  {
   "cell_type": "markdown",
   "id": "de15be68",
   "metadata": {},
   "source": [
    "## Measurements"
   ]
  },
  {
   "cell_type": "code",
   "execution_count": 11,
   "id": "7dd91bf6-c559-443a-9f83-e49d1a8bfaf8",
   "metadata": {},
   "outputs": [
    {
     "name": "stdout",
     "output_type": "stream",
     "text": [
      "Ul: 9.9\n",
      "I: 0.63\n",
      "Omega: 314.1592653589793\n",
      "tau: 5\n",
      "phi: 89.96352437881643\n",
      "Ul:\n",
      "- алг: (9.899997993841174+0.006302534469278406j),\n",
      "- показ: 9.9e^(0.036475621183569736j)\n",
      "\n",
      "I:\n",
      "- алг: (0.00040107037531771295-0.6299998723353474j),\n",
      "- показ: 0.63e^(-89.96352437881643j)\n",
      "\n"
     ]
    }
   ],
   "source": [
    "Ul = 9.9\n",
    "print(f\"Ul: {Ul}\")\n",
    "I = 0.63\n",
    "print(f\"I: {I}\")\n",
    "omega = 2*pi*50\n",
    "print(f\"Omega: {omega}\")\n",
    "tau = 5\n",
    "print(f\"tau: {tau}\")\n",
    "phi = degrees(atan(omega*tau))\n",
    "print(f\"phi: {phi}\")\n",
    "Ul = c.rect(Ul,radians(90-phi))\n",
    "printData('Ul',Ul)\n",
    "I = c.rect(I,radians(-phi))\n",
    "printData('I',I)"
   ]
  },
  {
   "cell_type": "markdown",
   "id": "3a00359e",
   "metadata": {},
   "source": [
    "# 1.2\n",
    "## Calculations"
   ]
  },
  {
   "cell_type": "code",
   "execution_count": 13,
   "id": "7dd91bf6-c559-443a-9f83-e49d1a8bfaf8",
   "metadata": {},
   "outputs": [
    {
     "name": "stdout",
     "output_type": "stream",
     "text": [
      "U:\n",
      "- алг: (10+0j),\n",
      "- показ: 10.0e^(0.0j)\n",
      "\n",
      "Omega: 314.1592653589793\n",
      "\n",
      "Zl:\n",
      "- алг: 15.707963267948966j,\n",
      "- показ: 15.707963267948966e^(90.0j)\n",
      "\n",
      "Zr1:\n",
      "- алг: (10+0j),\n",
      "- показ: 10.0e^(0.0j)\n",
      "\n",
      "Zr2:\n",
      "- алг: (0.01+0j),\n",
      "- показ: 0.01e^(0.0j)\n",
      "\n",
      "Z:\n",
      "- алг: (10.01+15.707963267948966j),\n",
      "- показ: 18.6263310941053e^(57.492414855296474j)\n",
      "\n",
      "I:\n",
      "- алг: (0.2885223364341146-0.4527570691997889j),\n",
      "- показ: 0.5368743822644017e^(-57.49241485529649j)\n",
      "\n",
      "Ul:\n",
      "- алг: (7.111891412294512+4.532098262689886j),\n",
      "- показ: 8.433203076112013e^(32.50758514470352j)\n",
      "\n",
      "Ur1:\n",
      "- алг: (2.8852233643411465-4.527570691997889j),\n",
      "- показ: 5.368743822644017e^(-57.49241485529649j)\n",
      "\n",
      "I*:\n",
      "- алг: (0.2885223364341146+0.4527570691997889j),\n",
      "- показ: 0.5368743822644017e^(57.49241485529649j)\n",
      "\n",
      "Ssrc:\n",
      "- алг: (2.8852233643411465+4.527570691997889j),\n",
      "- показ: 5.368743822644017e^(57.49241485529649j)\n",
      "\n",
      "Spr:\n",
      "- алг: (2.8852233643411465+4.527570691997888j),\n",
      "- показ: 5.368743822644015e^(57.492414855296474j)\n",
      "\n"
     ]
    }
   ],
   "source": [
    "U = complex(10,0)\n",
    "printData('U',U)\n",
    "omega = 2*pi*50\n",
    "print(f\"Omega: {omega}\\n\")\n",
    "Zl = complex(0, omega*50*10**-3)\n",
    "printData('Zl',Zl)\n",
    "Zr1 = complex(10,0)\n",
    "printData('Zr1',Zr1)\n",
    "Zr2 = complex(0.01,0)\n",
    "printData('Zr2',Zr2)\n",
    "Z = Zr1 + Zr2 + Zl\n",
    "printData('Z',Z)\n",
    "I = U/Z\n",
    "printData('I',I)\n",
    "Ul = I*Zl\n",
    "printData('Ul',Ul)\n",
    "Ur1 = I*Zr1\n",
    "printData('Ur1',Ur1)\n",
    "_I = complex(I.real,-I.imag)\n",
    "printData('I*',_I)\n",
    "Ssrc = _I*U\n",
    "printData('Ssrc',Ssrc)\n",
    "Spr = (abs(I)**2)*0.01+(abs(I)**2)*10+(abs(I)**2)*Zl\n",
    "printData('Spr',Spr)"
   ]
  },
  {
   "cell_type": "markdown",
   "id": "709d2f88",
   "metadata": {},
   "source": [
    "## Measurements"
   ]
  },
  {
   "cell_type": "code",
   "execution_count": 10,
   "id": "7dd91bf6-c559-443a-9f83-e49d1a8bfaf8",
   "metadata": {},
   "outputs": [
    {
     "name": "stdout",
     "output_type": "stream",
     "text": [
      "Ur1: 5.32\n",
      "Ul: 8.46\n",
      "I: 0.532\n",
      "Omega: 314.1592653589793\n",
      "tau: 0.005\n",
      "phi: 57.51836340947025\n",
      "Uc:\n",
      "- алг: (7.136548124261783+4.543267642357826j),\n",
      "- показ: 8.46e^(32.48163659052975j)\n",
      "\n",
      "Ur1:\n",
      "- алг: (2.8569957278183966-4.48775839492585j),\n",
      "- показ: 5.320000000000001e^(-57.51836340947025j)\n",
      "\n",
      "I:\n",
      "- алг: (0.28569957278183966-0.4487758394925849j),\n",
      "- показ: 0.532e^(-57.51836340947025j)\n",
      "\n"
     ]
    }
   ],
   "source": [
    "Ur1 = 5.32\n",
    "print(f\"Ur1: {Ur1}\")\n",
    "Ul = 8.46\n",
    "print(f\"Ul: {Ul}\")\n",
    "I = 0.532\n",
    "print(f\"I: {I}\")\n",
    "omega = 2*pi*50\n",
    "print(f\"Omega: {omega}\")\n",
    "tau = 5*10**-3\n",
    "print(f\"tau: {tau}\")\n",
    "phi = degrees(atan(omega*tau))\n",
    "print(f\"phi: {phi}\")\n",
    "Ul = c.rect(Ul,radians(90-phi))\n",
    "printData('Uc',Ul)\n",
    "Ur1 = c.rect(Ur1,radians(-phi))\n",
    "printData('Ur1',Ur1)\n",
    "I = c.rect(I,radians(-phi))\n",
    "printData('I',I)"
   ]
  }
 ],
 "metadata": {
  "interpreter": {
   "hash": "f4f82ac6cdc69cfa792838006febf927512d238481233c1fb7da1079371dad96"
  },
  "kernelspec": {
   "display_name": "Python 3.8.3 64-bit",
   "name": "python3"
  },
  "language_info": {
   "codemirror_mode": {
    "name": "ipython",
    "version": 3
   },
   "file_extension": ".py",
   "mimetype": "text/x-python",
   "name": "python",
   "nbconvert_exporter": "python",
   "pygments_lexer": "ipython3",
   "version": "3.8.3"
  }
 },
 "nbformat": 4,
 "nbformat_minor": 5
}
