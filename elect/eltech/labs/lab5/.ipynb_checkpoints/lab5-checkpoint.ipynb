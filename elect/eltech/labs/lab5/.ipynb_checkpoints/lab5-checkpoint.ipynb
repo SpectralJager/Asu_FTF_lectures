{
 "cells": [
  {
   "cell_type": "code",
<<<<<<< Updated upstream
   "execution_count": 9,
=======
   "execution_count": 33,
>>>>>>> Stashed changes
   "metadata": {},
   "outputs": [],
   "source": [
    "import numpy as np\n",
    "import cmath as c\n",
    "import pandas as pd\n",
    "from math import *"
   ]
  },
  {
   "cell_type": "code",
<<<<<<< Updated upstream
   "execution_count": 10,
=======
   "execution_count": 34,
>>>>>>> Stashed changes
   "id": "de81f709",
   "metadata": {},
   "outputs": [],
   "source": [
    "def printData(name:str,data:complex):\n",
    "\tprint(f\"{name}:\\n- алг: {str(data)},\\n- показ: {abs(data)}e^({degrees(c.phase(data))}j)\\n\")"
   ]
  },
  {
   "cell_type": "markdown",
   "id": "75468119-5395-41b5-9f0f-3f03351de4d8",
   "metadata": {},
   "source": [
    "## Calculations"
   ]
  },
  {
   "cell_type": "code",
<<<<<<< Updated upstream
   "execution_count": 11,
=======
   "execution_count": 35,
>>>>>>> Stashed changes
   "metadata": {},
   "outputs": [],
   "source": [
    "data = np.zeros((12,4),dtype=object)\n",
    "E = complex(10,0)\n",
    "f = 50\n",
    "R1 = complex(10,0)\n",
    "R2 = complex(8,0)\n",
    "R3 = complex(6,0)\n",
    "C3 = 400*10**-6\n",
    "L2 = 60*10**-3\n",
    "omega = 2*pi*f"
   ]
  },
  {
   "cell_type": "code",
<<<<<<< Updated upstream
   "execution_count": 12,
=======
   "execution_count": 36,
>>>>>>> Stashed changes
   "metadata": {},
   "outputs": [
    {
     "name": "stdout",
     "output_type": "stream",
     "text": [
      "Zc3:\n",
      "- алг: -7.9577471545947684j,\n",
      "- показ: 7.9577471545947684e^(-90.0j)\n",
      "\n",
      "Zcd:\n",
      "- алг: (6-7.9577471545947684j),\n",
      "- показ: 9.96622996807023e^(-52.98435542681794j)\n",
      "\n",
      "Zl2:\n",
      "- алг: 18.84955592153876j,\n",
      "- показ: 18.84955592153876e^(90.0j)\n",
      "\n",
      "Zab:\n",
      "- алг: (8+18.84955592153876j),\n",
      "- показ: 20.476956767039795e^(67.00299232820947j)\n",
      "\n",
      "Zabcd:\n",
      "- алг: (10.521643534169309-4.654597928260744j),\n",
      "- показ: 11.505227704565261e^(-23.86379161907591j)\n",
      "\n",
      "Z:\n",
      "- алг: (20.521643534169307-4.654597928260744j),\n",
      "- показ: 21.042887996120736e^(-12.77927634265293j)\n",
      "\n",
      "I:\n",
      "- алг: (0.4634484695800404+0.10511664344871333j),\n",
      "- показ: 0.47521994138083634e^(12.77927634265293j)\n",
      "\n",
      "Ur1:\n",
      "- алг: (4.634484695800404+1.0511664344871332j),\n",
      "- показ: 4.752199413808364e^(12.77927634265293j)\n",
      "\n",
      "Uab:\n",
      "- алг: (5.365515304199598-1.051166434487133j),\n",
      "- показ: 5.467513635336679e^(-11.084515276422978j)\n",
      "\n",
      "Iab:\n",
      "- алг: (0.055115155179146294-0.2612578292700922j),\n",
      "- показ: 0.2670081153922892e^(-78.08750760463245j)\n",
      "\n",
      "Ur2:\n",
      "- алг: (0.44092124143317035-2.090062634160738j),\n",
      "- показ: 2.1360649231383135e^(-78.08750760463245j)\n",
      "\n",
      "Ul2:\n",
      "- алг: (4.924594062766429+1.0388961996736046j),\n",
      "- показ: 5.03298440259163e^(11.912492395367552j)\n",
      "\n",
      "Icd:\n",
      "- алг: (0.4083333144008941+0.3663744727188055j),\n",
      "- показ: 0.5486040009967137e^(41.89984015039496j)\n",
      "\n",
      "Uc3:\n",
      "- алг: (2.915515417794233-3.249413270799966j),\n",
      "- показ: 4.365651927930903e^(-48.10015984960505j)\n",
      "\n",
      "Ur3:\n",
      "- алг: (2.4499998864053647+2.1982468363128334j),\n",
      "- показ: 3.291624005980282e^(41.89984015039496j)\n",
      "\n"
     ]
    }
   ],
   "source": [
    "Zc3 = complex(0,-(1/(omega*C3)))\n",
    "printData('Zc3',Zc3)\n",
    "Zcd = Zc3 + R3\n",
    "printData('Zcd',Zcd)\n",
    "Zl2 = complex(0,omega*L2)\n",
    "printData('Zl2',Zl2)\n",
    "Zab = Zl2 + R2\n",
    "printData('Zab',Zab)\n",
    "Zabcd = (1/Zcd+1/Zab)**-1\n",
    "printData('Zabcd',Zabcd)\n",
    "Z = Zabcd + R1\n",
    "printData('Z',Z)\n",
    "I = E/Z\n",
    "printData('I',I)\n",
    "Ur1 = I*R1\n",
    "printData('Ur1',Ur1)\n",
    "Uab = I*Zabcd\n",
    "printData('Uab',Uab)\n",
    "Iab = Uab/Zab\n",
    "printData('Iab',Iab)\n",
    "Ur2 = Iab * R2\n",
    "printData('Ur2',Ur2)\n",
    "Ul2 = Iab * Zl2\n",
    "printData('Ul2',Ul2)\n",
    "Icd = Uab/Zcd\n",
    "printData('Icd',Icd)\n",
    "Uc3 = Icd*Zc3\n",
    "printData('Uc3',Uc3)\n",
    "Ur3 = Icd*R3\n",
    "printData('Ur3',Ur3)"
   ]
  },
  {
   "cell_type": "code",
<<<<<<< Updated upstream
   "execution_count": 13,
=======
   "execution_count": 37,
>>>>>>> Stashed changes
   "metadata": {},
   "outputs": [
    {
     "name": "stdout",
     "output_type": "stream",
     "text": [
      "I*:\n",
      "- алг: (0.4634484695800404-0.10511664344871333j),\n",
      "- показ: 0.47521994138083634e^(-12.77927634265293j)\n",
      "\n",
      "Ssrc:\n",
      "- алг: (4.634484695800404-1.0511664344871332j),\n",
      "- показ: 4.752199413808364e^(-12.77927634265293j)\n",
      "\n",
      "Spr:\n",
      "- алг: (4.6344846958004045-1.0511664344871334j),\n",
      "- показ: 4.7521994138083645e^(-12.77927634265293j)\n",
      "\n"
     ]
    }
   ],
   "source": [
    "_I = complex(I.real,-I.imag)\n",
    "printData('I*',_I)\n",
    "Ssrc = _I*E\n",
    "printData('Ssrc',Ssrc)\n",
    "Spr = abs(I)**2*R1+abs(Iab)**2*R2+abs(Icd)**2*R3+abs(Iab)**2*Zl2+abs(Icd)**2*Zc3\n",
    "printData('Spr',Spr)"
   ]
  },
  {
   "cell_type": "markdown",
   "metadata": {},
   "source": [
    "## Measurements"
   ]
  },
  {
   "cell_type": "code",
<<<<<<< Updated upstream
   "execution_count": 29,
=======
   "execution_count": 38,
>>>>>>> Stashed changes
   "metadata": {},
   "outputs": [
    {
     "name": "stdout",
     "output_type": "stream",
     "text": [
<<<<<<< Updated upstream
      "phi:  11.316513185690944\n",
      "I:\n",
      "- алг: (0.4677262348252268+0.09360111781499596j),\n",
      "- показ: 0.4769999999999999e^(11.316513185690946j)\n",
      "\n",
      "Ur1:\n",
      "- алг: (4.677262348252268+0.9360111781499595j),\n",
      "- показ: 4.77e^(11.316513185690944j)\n",
      "\n",
      "Uab:\n",
      "- алг: (5.322737651747732-0.9360111781499595j),\n",
      "- показ: 5.404410516879213e^(-9.973573975407078j)\n",
      "\n",
      "phi:  21.595674081851133\n",
      "Iab:\n",
      "- алг: (0.04860939759859813-0.26356319073857676j),\n",
      "- показ: 0.26800826302037406e^(-79.55027076159443j)\n",
      "\n",
      "Icd:\n",
      "- алг: (0.4191168372266287+0.35716430855357273j),\n",
      "- показ: 0.5506589385013232e^(40.437076993432974j)\n",
      "\n",
      "Ur2:\n",
      "- алг: (0.388875180788785-2.108505525908614j),\n",
      "- показ: 2.1440661041629925e^(-79.55027076159443j)\n",
      "\n",
      "Ul2:\n",
      "- алг: (4.968049102685989+0.9162655583470872j),\n",
      "- показ: 5.051836741237008e^(10.449729238405569j)\n",
      "\n",
      "Ur3:\n",
      "- алг: (2.514701023359772+2.1429858513214364j),\n",
      "- показ: 3.303953631007939e^(40.437076993432974j)\n",
      "\n",
      "Uc3:\n",
      "- алг: (2.8422232601150013-3.335225818882963j),\n",
      "- показ: 4.38200460101108e^(-49.56292300656703j)\n",
=======
      "phi:  11.938184177465956\n",
      "I:\n",
      "- алг: (0.46668313164841+0.09867043445142411j),\n",
      "- показ: 0.477e^(11.938184177465956j)\n",
      "\n",
      "Ur1:\n",
      "- алг: (4.6668313164840995+0.986704344514241j),\n",
      "- показ: 4.77e^(11.938184177465956j)\n",
      "\n",
      "phi:  54.96481551290347\n",
      "Ur2:\n",
      "- алг: (1.211307443847519-1.7276672933408184j),\n",
      "- показ: 2.11e^(-54.96481551290347j)\n",
      "\n",
      "Iab:\n",
      "- алг: (0.1492606328911635-0.2128879129235132j),\n",
      "- показ: 0.26000000000000006e^(-54.96481551290347j)\n",
      "\n",
      "Ul2:\n",
      "- алг: (4.110374318753985+2.881878373514002j),\n",
      "- показ: 5.02e^(35.03518448709652j)\n",
      "\n",
      "phi:  35.85060741833565\n",
      "Ur3:\n",
      "- алг: (2.682910005337259+1.9385803834923194j),\n",
      "- показ: 3.31e^(35.85060741833565j)\n",
      "\n",
      "Icd:\n",
      "- алг: (0.44580075617386483+0.3221206075289353j),\n",
      "- показ: 0.55e^(35.85060741833565j)\n",
      "\n",
      "Uc3:\n",
      "- алг: (2.535967692000527-3.5096677713324262j),\n",
      "- показ: 4.33e^(-54.149392581664344j)\n",
>>>>>>> Stashed changes
      "\n"
     ]
    }
   ],
   "source": [
<<<<<<< Updated upstream
    "phi = atan(f*(637*10**-6)*2*pi)\n",
=======
    "phi = atan((673*10**-6)*2*pi*f)\n",
>>>>>>> Stashed changes
    "print('phi: ',degrees(phi))\n",
    "I = c.rect(0.477,phi)\n",
    "printData('I',I)\n",
    "Ur1 = c.rect(4.77,phi)\n",
    "printData('Ur1',Ur1)\n",
<<<<<<< Updated upstream
    "Uab = E - Ur1\n",
    "printData('Uab',Uab)\n",
    "phi = atan(f*(1.26*10**-3)*2*pi)\n",
    "print('phi: ',degrees(phi))\n",
    "\n",
    "printData('Iab',Iab)\n",
    "printData('Icd',Icd)\n",
    "printData('Ur2',Ur2)\n",
    "printData('Ul2',Ul2)\n",
    "printData('Ur3',Ur3)\n",
=======
    "phi = atan((4.54*10**-3)*2*pi*f)\n",
    "print('phi: ',degrees(phi))\n",
    "Ur2 = c.rect(2.11,-phi)\n",
    "printData('Ur2',Ur2)\n",
    "Iab = c.rect(0.26,-phi)\n",
    "printData('Iab',Iab)\n",
    "Ul2 = c.rect(5.02,-phi+radians(90))\n",
    "printData('Ul2',Ul2)\n",
    "phi = atan((2.3*10**-3)*2*pi*f)\n",
    "print('phi: ',degrees(phi))\n",
    "Ur3 = c.rect(3.31,phi)\n",
    "printData('Ur3',Ur3)\n",
    "Icd = c.rect(0.55,phi)\n",
    "printData('Icd',Icd)\n",
    "Uc3 = c.rect(4.33,phi-radians(90))\n",
>>>>>>> Stashed changes
    "printData('Uc3',Uc3)"
   ]
  }
 ],
 "metadata": {
  "interpreter": {
   "hash": "f4f82ac6cdc69cfa792838006febf927512d238481233c1fb7da1079371dad96"
  },
  "kernelspec": {
   "display_name": "Python 3.8.3 64-bit",
   "name": "python3"
  },
  "language_info": {
   "codemirror_mode": {
    "name": "ipython",
    "version": 3
   },
   "file_extension": ".py",
   "mimetype": "text/x-python",
   "name": "python",
   "nbconvert_exporter": "python",
   "pygments_lexer": "ipython3",
   "version": "3.8.3"
  },
  "orig_nbformat": 4
 },
 "nbformat": 4,
 "nbformat_minor": 2
}
