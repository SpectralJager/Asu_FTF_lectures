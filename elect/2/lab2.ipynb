{
 "cells": [
  {
   "cell_type": "code",
   "execution_count": 1,
   "metadata": {},
   "outputs": [],
   "source": [
    "import numpy as np"
   ]
  },
  {
   "cell_type": "markdown",
   "metadata": {},
   "source": [
    "# 1"
   ]
  },
  {
   "cell_type": "code",
   "execution_count": 2,
   "metadata": {},
   "outputs": [],
   "source": [
    "# Vin = 0.4, 0.6, 0.8, 1, 1.2, 1.4, 1.8, 2, 2.2, 2.6\n",
    "Ic = np.array([\n",
    "    519.921e-9, 488.57e-6, 3.639e-3, 7.496e-3, 11.516e-3, 15.604e-3, 23.123e-3, 23.216e-3, 23.247e-3, 23.28e-3\n",
    "])\n",
    "Vr1 = np.array([\n",
    "    24.38e-6, 22.963e-3, 171.027e-3, 352.333e-3, 541.23e-3, 733.372e-3, 1.123, 1.323, 1.523, 1.923\n",
    "])\n",
    "Ib = Vr1/4.7e3\n",
    "beta = Ic/Ib\n"
   ]
  },
  {
   "cell_type": "markdown",
   "metadata": {},
   "source": [
    "# 5"
   ]
  },
  {
   "cell_type": "code",
   "execution_count": 4,
   "metadata": {},
   "outputs": [],
   "source": [
    "E=12\n",
    "R3 = np.array([\n",
    "    0,1,2,3,4,5,6,7,8,9,10\n",
    "])*1e3\n",
    "Il = np.array([\n",
    "    3.775,3.777,3.771,2.954,2.366,1.974,1.692,1.481,1.317,1.186,1.078\n",
    "])*1e-3\n",
    "Rout = (E/Il - R3)*1e-3"
   ]
  },
  {
   "cell_type": "code",
   "execution_count": 5,
   "metadata": {},
   "outputs": [
    {
     "data": {
      "text/plain": [
       "-999.5"
      ]
     },
     "execution_count": 5,
     "metadata": {},
     "output_type": "execute_result"
    }
   ],
   "source": [
    "0.5/1-1e3"
   ]
  }
 ],
 "metadata": {
  "interpreter": {
   "hash": "034ebe6e011431ded401f6e08d45af542d9aa854d56af5c1056dfc37504b49c6"
  },
  "kernelspec": {
   "display_name": "Python 3.10.1 64-bit",
   "language": "python",
   "name": "python3"
  },
  "language_info": {
   "codemirror_mode": {
    "name": "ipython",
    "version": 3
   },
   "file_extension": ".py",
   "mimetype": "text/x-python",
   "name": "python",
   "nbconvert_exporter": "python",
   "pygments_lexer": "ipython3",
   "version": "3.10.1"
  },
  "orig_nbformat": 4
 },
 "nbformat": 4,
 "nbformat_minor": 2
}
