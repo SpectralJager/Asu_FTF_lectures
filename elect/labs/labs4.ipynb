{
 "cells": [
  {
   "cell_type": "code",
   "execution_count": 1,
   "id": "2dd5b2af-8226-4411-8988-92ee85171ab1",
   "metadata": {},
   "outputs": [],
   "source": [
    "import cmath as c\n",
    "from math import *"
   ]
  },
  {
   "cell_type": "markdown",
   "id": "75468119-5395-41b5-9f0f-3f03351de4d8",
   "metadata": {},
   "source": [
    "# Calculations"
   ]
  },
  {
   "cell_type": "code",
   "execution_count": 2,
   "id": "7dd91bf6-c559-443a-9f83-e49d1a8bfaf8",
   "metadata": {},
   "outputs": [
    {
     "data": {
      "text/plain": [
       "((15.915494309189533, -1.5707963267948966), -90.0)"
      ]
     },
     "execution_count": 2,
     "metadata": {},
     "output_type": "execute_result"
    }
   ],
   "source": [
    "Zc = complex(0, -(1/(2*pi*50*200*10**-6)))\n",
    "c.polar(Zc), degrees(c.polar(Zc)[1])"
   ]
  },
  {
   "cell_type": "code",
   "execution_count": 3,
   "metadata": {},
   "outputs": [
    {
     "data": {
      "text/plain": [
       "((0.01-15.915494309189533j),\n",
       " (10+0j),\n",
       " (0.00039478402018909017+0.6283182826678432j),\n",
       " (0.6283184066928886, 1.570168008346862))"
      ]
     },
     "execution_count": 3,
     "metadata": {},
     "output_type": "execute_result"
    }
   ],
   "source": [
    "Zr = complex(0.01,0)\n",
    "Z = Zr + Zc\n",
    "U = complex(10,0)\n",
    "I = U/Z\n",
    "Z,U,I,c.polar(I)"
   ]
  },
  {
   "cell_type": "code",
   "execution_count": 4,
   "metadata": {},
   "outputs": [
    {
     "data": {
      "text/plain": [
       "((9.9999960521598-0.006283182826678431j),\n",
       " (9.999998026079705, -0.0006283184480345736),\n",
       " -0.035999995262591004)"
      ]
     },
     "execution_count": 4,
     "metadata": {},
     "output_type": "execute_result"
    }
   ],
   "source": [
    "Uc = I*Zc\n",
    "Uc, c.polar(Uc), degrees(c.polar(Uc)[1])"
   ]
  },
  {
   "cell_type": "code",
   "execution_count": 5,
   "metadata": {},
   "outputs": [
    {
     "data": {
      "text/plain": [
       "((3.947840201890902e-06+0.006283182826678432j),\n",
       " (0.006283184066928888, 1.570168008346862),\n",
       " 89.96400000473741)"
      ]
     },
     "execution_count": 5,
     "metadata": {},
     "output_type": "execute_result"
    }
   ],
   "source": [
    "Ur = I*Zr\n",
    "Ur, c.polar(Ur), degrees(c.polar(Ur)[1])"
   ]
  },
  {
   "cell_type": "code",
   "execution_count": 6,
   "metadata": {},
   "outputs": [
    {
     "data": {
      "text/plain": [
       "((0.003947840201890902+6.2831828266784315j),\n",
       " (6.283184066928887, 1.570168008346862),\n",
       " 89.96400000473741,\n",
       " (-0.003947837084802451+4.961000351798326e-06j),\n",
       " (0.007895677286693352+6.283177865678081j),\n",
       " (0.003947840201890901+6.283182826678432j),\n",
       " (6.283184066928888, 1.570168008346862),\n",
       " 89.96400000473741)"
      ]
     },
     "execution_count": 6,
     "metadata": {},
     "output_type": "execute_result"
    }
   ],
   "source": [
    "Ssrc = I*U\n",
    "Pr = (I**2)*0.01\n",
    "Qc = (I**2)*Zc\n",
    "Spr = Pr+Qc\n",
    "Ssrc, c.polar(Ssrc), degrees(c.polar(Ssrc)[1]),Pr,Qc,Spr, c.polar(Spr), degrees(c.polar(Spr)[1])"
   ]
  },
  {
   "cell_type": "markdown",
   "metadata": {},
   "source": [
    "# Measurements"
   ]
  },
  {
   "cell_type": "code",
   "execution_count": 7,
   "metadata": {},
   "outputs": [
    {
     "data": {
      "text/plain": [
       "((10+0j),\n",
       " (3.8576374173141627e-17+0.63j),\n",
       " (9.899492982530267-0.006220034885636161j),\n",
       " (4.398453240556627e-06+0.007000355751932118j),\n",
       " 2e-06,\n",
       " 0.03599999526259101)"
      ]
     },
     "execution_count": 7,
     "metadata": {},
     "output_type": "execute_result"
    }
   ],
   "source": [
    "U = c.rect(10,0)\n",
    "I =  c.rect(0.63,pi/2)\n",
    "tau = 0.01*200*10**-6\n",
    "phi = tau*2*pi*50\n",
    "phi = degrees(atan(phi))\n",
    "Uc = c.rect(14/(2**.5),radians(0-phi))\n",
    "Ur = c.rect((9.9*10**-3)/(2**.5),radians(90-phi))\n",
    "U, I, Uc, Ur, tau, phi"
   ]
  },
  {
   "cell_type": "code",
   "execution_count": 8,
   "metadata": {},
   "outputs": [
    {
     "data": {
      "text/plain": [
       "(9.899494936611665, -0.03599999526259102)"
      ]
     },
     "execution_count": 8,
     "metadata": {},
     "output_type": "execute_result"
    }
   ],
   "source": [
    "abs(Uc), degrees(c.polar(Uc)[1])"
   ]
  },
  {
   "cell_type": "code",
   "execution_count": 14,
   "metadata": {},
   "outputs": [
    {
     "data": {
      "text/plain": [
       "((-0.009873071247040562-15.713480924651218j),\n",
       " -90.0359999952626,\n",
       " (0.011111675796717648-6.981671810406664e-06j))"
      ]
     },
     "execution_count": 14,
     "metadata": {},
     "output_type": "execute_result"
    }
   ],
   "source": [
    "Zc = Uc / I\n",
    "Zr = Ur / I\n",
    "Zc,degrees(c.phase(Zc)), Zr"
   ]
  },
  {
   "cell_type": "code",
   "execution_count": 13,
   "metadata": {},
   "outputs": [
    {
     "data": {
      "text/plain": [
       "((3.8576374173141627e-16+6.3j),\n",
       " 6.3,\n",
       " 90.0,\n",
       " (-0.003969+4.860623145815845e-19j),\n",
       " (0.003918621977951163+6.236680578994069j),\n",
       " (-5.037802204883694e-05+6.236680578994069j),\n",
       " 6.236680579197539,\n",
       " 90.00046281800182)"
      ]
     },
     "execution_count": 13,
     "metadata": {},
     "output_type": "execute_result"
    }
   ],
   "source": [
    "Ssrc = I*U\n",
    "Pr = (I**2)*0.01\n",
    "Qc = (I**2)*Zc\n",
    "Spr = Pr+Qc\n",
    "Ssrc, abs(Ssrc), degrees(c.phase(Ssrc)),Pr,Qc,Spr, abs(Spr), degrees(c.phase(Spr))"
   ]
  }
 ],
 "metadata": {
  "interpreter": {
   "hash": "f4f82ac6cdc69cfa792838006febf927512d238481233c1fb7da1079371dad96"
  },
  "kernelspec": {
   "display_name": "Python 3.8.3 64-bit",
   "name": "python3"
  },
  "language_info": {
   "codemirror_mode": {
    "name": "ipython",
    "version": 3
   },
   "file_extension": ".py",
   "mimetype": "text/x-python",
   "name": "python",
   "nbconvert_exporter": "python",
   "pygments_lexer": "ipython3",
   "version": "3.8.3"
  }
 },
 "nbformat": 4,
 "nbformat_minor": 5
}
