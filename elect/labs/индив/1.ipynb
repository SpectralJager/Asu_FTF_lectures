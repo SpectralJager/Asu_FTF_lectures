{
 "cells": [
  {
   "cell_type": "code",
   "execution_count": 2,
   "metadata": {},
   "outputs": [],
   "source": [
    "import scipy as sc\n",
    "import numpy as np"
   ]
  },
  {
   "cell_type": "code",
   "execution_count": 3,
   "metadata": {},
   "outputs": [],
   "source": [
    "J1,J2 = 1.,.5\n",
    "E1,E2,E3 = 8,5,10\n",
    "R1,R2,R3 = 8,4,6"
   ]
  },
  {
   "cell_type": "markdown",
   "metadata": {},
   "source": [
    "# 1"
   ]
  },
  {
   "cell_type": "code",
   "execution_count": 10,
   "metadata": {},
   "outputs": [
    {
     "data": {
      "text/plain": [
       "(array([12.16666667]), array([12.16666667]))"
      ]
     },
     "execution_count": 10,
     "metadata": {},
     "output_type": "execute_result"
    }
   ],
   "source": [
    "A = np.array([\n",
    "\t[1,1,0,0],\n",
    "\t[0,-1,0,-1],\n",
    "\t[0,0,-1,1],\n",
    "\t[R1,-R2,0,R3],\n",
    "])\n",
    "B = np.array([\n",
    "\t[J1],\n",
    "\t[-J2],\n",
    "\t[J2],\n",
    "\t[E1-E2+E3],\n",
    "])\n",
    "x = np.linalg.solve(A,B)\n",
    "U1=x[0]*R1-E1\n",
    "U2=x[3]*R3\n",
    "E1*x[0]+E2*x[1]+E3*x[2]+J1*U1+J2*U2, x[0]**2*R1+x[1]**2*R2+R3*x[3]**2"
   ]
  },
  {
   "cell_type": "markdown",
   "metadata": {},
   "source": [
    "# 2"
   ]
  },
  {
   "cell_type": "code",
   "execution_count": 11,
   "metadata": {},
   "outputs": [
    {
     "data": {
      "text/plain": [
       "(0.25, 0.16666666666666666)"
      ]
     },
     "execution_count": 11,
     "metadata": {},
     "output_type": "execute_result"
    }
   ],
   "source": [
    "g2 = R2**-1\n",
    "g3 = R3**-1\n",
    "g2,g3"
   ]
  }
 ],
 "metadata": {
  "interpreter": {
   "hash": "f4f82ac6cdc69cfa792838006febf927512d238481233c1fb7da1079371dad96"
  },
  "kernelspec": {
   "display_name": "Python 3.8.3 64-bit",
   "language": "python",
   "name": "python3"
  },
  "language_info": {
   "codemirror_mode": {
    "name": "ipython",
    "version": 3
   },
   "file_extension": ".py",
   "mimetype": "text/x-python",
   "name": "python",
   "nbconvert_exporter": "python",
   "pygments_lexer": "ipython3",
   "version": "3.8.3"
  },
  "orig_nbformat": 4
 },
 "nbformat": 4,
 "nbformat_minor": 2
}
