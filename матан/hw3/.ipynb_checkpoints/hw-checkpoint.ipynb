{
 "cells": [
  {
   "cell_type": "code",
   "execution_count": 3,
   "metadata": {},
   "outputs": [],
   "source": [
    "import matplotlib.pyplot as plt\n",
    "import math"
   ]
  },
  {
   "cell_type": "code",
   "execution_count": 29,
   "metadata": {},
   "outputs": [
    {
     "data": {
      "image/png": "[encoded data removed]",
      "text/plain": [
       "<Figure size 432x288 with 1 Axes>"
      ]
     },
     "metadata": {
      "needs_background": "light"
     },
     "output_type": "display_data"
    }
   ],
   "source": [
    "plt.plot([-1,5],[0,0],color='black',linestyle='--',linewidth=0.5)\n",
    "plt.plot([-1,5],[math.pi/2,math.pi/2],color='black',linestyle='--',linewidth=0.5)\n",
    "plt.plot([0,0],[-1,3],color='black',linestyle='--',linewidth=0.5)\n",
    "plt.plot([math.pi,math.pi],[-1,3],color='black',linestyle='--',linewidth=0.5)\n",
    "\n",
    "plt.plot([math.pi,math.pi],[0,math.pi/2],color=\"red\")\n",
    "plt.plot([0,0],[0,math.pi/2],color=\"red\")\n",
    "plt.plot([0,math.pi],[0,0],color=\"red\")\n",
    "plt.plot([0,math.pi],[math.pi/2,math.pi/2],color=\"red\")\n",
    "\n",
    "plt.axis([-1,5,-1,3])\n",
    "plt.ylabel(\"y\")\n",
    "plt.xlabel(\"x\")\n",
    "plt.show()"
   ]
  },
  {
   "cell_type": "code",
   "execution_count": null,
   "metadata": {},
   "outputs": [],
   "source": []
  }
 ],
 "metadata": {
  "kernelspec": {
   "display_name": "Python 3",
   "language": "python",
   "name": "python3"
  },
  "language_info": {
   "codemirror_mode": {
    "name": "ipython",
    "version": 3
   },
   "file_extension": ".py",
   "mimetype": "text/x-python",
   "name": "python",
   "nbconvert_exporter": "python",
   "pygments_lexer": "ipython3",
   "version": "3.7.6"
  }
 },
 "nbformat": 4,
 "nbformat_minor": 4
}
