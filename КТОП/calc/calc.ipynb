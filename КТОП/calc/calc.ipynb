{
 "cells": [
  {
   "cell_type": "code",
   "execution_count": 13,
   "metadata": {},
   "outputs": [],
   "source": [
    "x = [-14, 16, -15, -1, -21, 9]\n",
    "y = [19, 24, 1, 0, -19, -19]\n",
    "m = [10, 1, 0.3, 0.5, 1.3, 3.5]"
   ]
  },
  {
   "cell_type": "code",
   "execution_count": 14,
   "metadata": {},
   "outputs": [
    {
     "data": {
      "text/plain": [
       "(-7.518072289156627, 7.41566265060241)"
      ]
     },
     "execution_count": 14,
     "metadata": {},
     "output_type": "execute_result"
    }
   ],
   "source": [
    "sx, sy, sm = 0, 0, 0\n",
    "for i in range(len(x)):\n",
    "    sx += x[i] * m[i]\n",
    "    sy += y[i] * m[i]\n",
    "    sm += m[i]\n",
    "Xm = sx/sm\n",
    "Ym = sy/sm\n",
    "Xm, Ym "
   ]
  },
  {
   "cell_type": "code",
   "execution_count": 15,
   "metadata": {},
   "outputs": [],
   "source": [
    "x1, x2 = -35., 50.\n",
    "y1, y2 = -37.5, 22.5\n"
   ]
  },
  {
   "cell_type": "code",
   "execution_count": 16,
   "metadata": {},
   "outputs": [],
   "source": [
    "m = (sm + 119)/1000\n",
    "mg = m * 9.8\n",
    "d = (x1+x2)*(y1+y2)\n",
    "f1 = [1., 1., 1., 1.]\n",
    "f2 = [x1, x1, x2, x2]\n",
    "f3 = [y1, y2, y2, y1]\n",
    "f4 = [x1*y1, x1*y2, x2*y2, x2*y1]"
   ]
  },
  {
   "cell_type": "code",
   "execution_count": 17,
   "metadata": {},
   "outputs": [
    {
     "data": {
      "text/plain": [
       "array([0.29313529, 0.48855882, 0.34199118, 0.20519471])"
      ]
     },
     "execution_count": 17,
     "metadata": {},
     "output_type": "execute_result"
    }
   ],
   "source": [
    "import numpy as np\n",
    "M1 = np.array([\n",
    "    f1,\n",
    "    f2,\n",
    "    f3,\n",
    "    f4,\n",
    "])\n",
    "v1 = np.array([mg, 0, 0, 0])\n",
    "np.linalg.solve(M1, v1)"
   ]
  },
  {
   "cell_type": "code",
   "execution_count": 18,
   "metadata": {},
   "outputs": [],
   "source": [
    "rho = 2470\n",
    "h = 0.0015\n",
    "mu = 0.279\n",
    "E = 3.3 * 10**10\n"
   ]
  },
  {
   "cell_type": "code",
   "execution_count": 19,
   "metadata": {},
   "outputs": [
    {
     "data": {
      "text/plain": [
       "10.064696001448773"
      ]
     },
     "execution_count": 19,
     "metadata": {},
     "output_type": "execute_result"
    }
   ],
   "source": [
    "D = E * (h**3) / (12*(1-mu**2))\n",
    "D"
   ]
  },
  {
   "cell_type": "code",
   "execution_count": 20,
   "metadata": {},
   "outputs": [],
   "source": [
    "a, b = 0.065, 0.090"
   ]
  },
  {
   "cell_type": "code",
   "execution_count": 21,
   "metadata": {},
   "outputs": [
    {
     "data": {
      "text/plain": [
       "23.76858623460696"
      ]
     },
     "execution_count": 21,
     "metadata": {},
     "output_type": "execute_result"
    }
   ],
   "source": [
    "import math\n",
    "f = (3.14/2)*(1+(b/2)**2)/(a**2)*math.sqrt(D/rho)\n",
    "# f = (3.14/(2*a**2))*(1+(a**2/b**2))*math.sqrt(D/0.1*a*b)\n",
    "f"
   ]
  },
  {
   "cell_type": "code",
   "execution_count": 22,
   "metadata": {},
   "outputs": [
    {
     "data": {
      "text/plain": [
       "43.24247186254525"
      ]
     },
     "execution_count": 22,
     "metadata": {},
     "output_type": "execute_result"
    }
   ],
   "source": [
    "f = (1/(2*3.14))*math.sqrt(10/m)\n",
    "f"
   ]
  },
  {
   "cell_type": "code",
   "execution_count": 23,
   "metadata": {},
   "outputs": [
    {
     "data": {
      "text/plain": [
       "0.00020781110679277785"
      ]
     },
     "execution_count": 23,
     "metadata": {},
     "output_type": "execute_result"
    }
   ],
   "source": [
    "n = 1/abs((1-(3000/f)**2))\n",
    "n"
   ]
  },
  {
   "cell_type": "code",
   "execution_count": 24,
   "metadata": {},
   "outputs": [
    {
     "data": {
      "text/plain": [
       "99.97921888932072"
      ]
     },
     "execution_count": 24,
     "metadata": {},
     "output_type": "execute_result"
    }
   ],
   "source": [
    "L = (1-n)*100\n",
    "L"
   ]
  },
  {
   "cell_type": "code",
   "execution_count": null,
   "metadata": {},
   "outputs": [],
   "source": []
  }
 ],
 "metadata": {
  "kernelspec": {
   "display_name": "Python 3",
   "language": "python",
   "name": "python3"
  },
  "language_info": {
   "codemirror_mode": {
    "name": "ipython",
    "version": 3
   },
   "file_extension": ".py",
   "mimetype": "text/x-python",
   "name": "python",
   "nbconvert_exporter": "python",
   "pygments_lexer": "ipython3",
   "version": "3.11.6"
  }
 },
 "nbformat": 4,
 "nbformat_minor": 2
}
