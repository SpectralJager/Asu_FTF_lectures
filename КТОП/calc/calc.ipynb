{
 "cells": [
  {
   "cell_type": "code",
   "execution_count": 1,
   "metadata": {},
   "outputs": [],
   "source": [
    "x = [-14, 16, -15, -1, -21, 9]\n",
    "y = [19, 24, 1, 0, -19, -19]\n",
    "m = [10, 1, 0.3, 0.5, 1.3, 3.5]"
   ]
  },
  {
   "cell_type": "code",
   "execution_count": 2,
   "metadata": {},
   "outputs": [
    {
     "data": {
      "text/plain": [
       "(-7.518072289156627, 7.41566265060241)"
      ]
     },
     "execution_count": 2,
     "metadata": {},
     "output_type": "execute_result"
    }
   ],
   "source": [
    "sx, sy, sm = 0, 0, 0\n",
    "for i in range(len(x)):\n",
    "    sx += x[i] * m[i]\n",
    "    sy += y[i] * m[i]\n",
    "    sm += m[i]\n",
    "Xm = sx/sm\n",
    "Ym = sy/sm\n",
    "Xm, Ym "
   ]
  },
  {
   "cell_type": "code",
   "execution_count": 21,
   "metadata": {},
   "outputs": [],
   "source": [
    "x1, x2 = -35., 50.\n",
    "y1, y2 = -37.5, 22.5\n",
    "x1, x2 = -25., 45.\n",
    "y1, y2 = -19, 21\n"
   ]
  },
  {
   "cell_type": "code",
   "execution_count": 22,
   "metadata": {},
   "outputs": [],
   "source": [
    "m = (sm + 119)/1000\n",
    "m = 0.3\n",
    "mg = m * 9.8\n",
    "d = (x1+x2)*(y1+y2)\n",
    "f1 = [1., 1., 1., 1.]\n",
    "f2 = [x1, x1, x2, x2]\n",
    "f3 = [y1, y2, y2, y1]\n",
    "f4 = [x1*y1, x1*y2, x2*y2, x2*y1]"
   ]
  },
  {
   "cell_type": "code",
   "execution_count": 23,
   "metadata": {},
   "outputs": [
    {
     "data": {
      "text/plain": [
       "array([0.99225, 0.89775, 0.49875, 0.55125])"
      ]
     },
     "execution_count": 23,
     "metadata": {},
     "output_type": "execute_result"
    }
   ],
   "source": [
    "import numpy as np\n",
    "M1 = np.array([\n",
    "    f1,\n",
    "    f2,\n",
    "    f3,\n",
    "    f4,\n",
    "])\n",
    "v1 = np.array([mg, 0, 0, 0])\n",
    "np.linalg.solve(M1, v1)"
   ]
  }
 ],
 "metadata": {
  "kernelspec": {
   "display_name": "Python 3",
   "language": "python",
   "name": "python3"
  },
  "language_info": {
   "codemirror_mode": {
    "name": "ipython",
    "version": 3
   },
   "file_extension": ".py",
   "mimetype": "text/x-python",
   "name": "python",
   "nbconvert_exporter": "python",
   "pygments_lexer": "ipython3",
   "version": "3.11.6"
  }
 },
 "nbformat": 4,
 "nbformat_minor": 2
}
