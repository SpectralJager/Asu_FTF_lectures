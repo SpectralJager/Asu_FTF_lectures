{
 "cells": [
  {
   "cell_type": "code",
   "execution_count": 3,
   "metadata": {},
   "outputs": [],
   "source": [
    "import math\n",
    "\n",
    "l = 99\n",
    "m = 25e-3\n",
    "R_e = 0.62*(100e-3*75e-3*40e-3)**(1/3)\n",
    "R_0 = 5\n",
    "Z = (377*l)/(2*3.14*R_e)\n",
    "\n",
    "E = 1.25*3.14*(Z/R_0)**(1/2)*(l/R_e)**(1/3)*(1-3.14*m/l)**6\n",
    "A = 20*math.log10(E)"
   ]
  }
 ],
 "metadata": {
  "kernelspec": {
   "display_name": "Python 3",
   "language": "python",
   "name": "python3"
  },
  "language_info": {
   "codemirror_mode": {
    "name": "ipython",
    "version": 3
   },
   "file_extension": ".py",
   "mimetype": "text/x-python",
   "name": "python",
   "nbconvert_exporter": "python",
   "pygments_lexer": "ipython3",
   "version": "3.11.6"
  }
 },
 "nbformat": 4,
 "nbformat_minor": 2
}
