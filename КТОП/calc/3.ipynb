{
 "cells": [
  {
   "cell_type": "code",
   "execution_count": 3,
   "metadata": {},
   "outputs": [],
   "source": [
    "import math\n",
    "l = 99930\n",
    "m = 65e-3\n",
    "rho = 18e-8\n",
    "R_e = 0.62*(102e-3*77e-3*42e-3)**(1/3)\n",
    "Z = (377*l)/(2*3.14*R_e)\n",
    "# E = 1.25*3.14*((5e-3*Z)/2.7e-8)**(1/2)*(l/R_e)**(1/3)*(1-(3.14*m/l))**6\n",
    "# A = 20*math.log10(E)"
   ]
  },
  {
   "cell_type": "code",
   "execution_count": 4,
   "metadata": {},
   "outputs": [],
   "source": [
    "A = 85\n",
    "E = 10**(A/20)\n",
    "d = (E/((1-(math.pi*m)/l)**6*1.25*math.pi*(l/R_e)**(1/3)))**2/Z*rho"
   ]
  }
 ],
 "metadata": {
  "kernelspec": {
   "display_name": "Python 3",
   "language": "python",
   "name": "python3"
  },
  "language_info": {
   "codemirror_mode": {
    "name": "ipython",
    "version": 3
   },
   "file_extension": ".py",
   "mimetype": "text/x-python",
   "name": "python",
   "nbconvert_exporter": "python",
   "pygments_lexer": "ipython3",
   "version": "3.11.6"
  }
 },
 "nbformat": 4,
 "nbformat_minor": 2
}
