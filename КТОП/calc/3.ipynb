{
 "cells": [
  {
   "cell_type": "code",
   "execution_count": 10,
   "metadata": {},
   "outputs": [],
   "source": [
    "Eff = 85\n",
    "f = 3e3\n",
    "Z_0 = 377\n",
    "rho = 0.28e-7\n",
    "mu = 1\n",
    "# l = 99.6e3 \n",
    "l = 114.4\n",
    "m = 25e-3\n",
    "d = 0.20e-3\n",
    "R0 = 5"
   ]
  },
  {
   "cell_type": "code",
   "execution_count": 11,
   "metadata": {},
   "outputs": [],
   "source": [
    "delta = 0.52*(rho/(mu*f))"
   ]
  },
  {
   "cell_type": "code",
   "execution_count": 12,
   "metadata": {},
   "outputs": [],
   "source": [
    "R_e = 0.62*(0.1e-3*0.09e-3*0.04e-3)**(1/3)"
   ]
  },
  {
   "cell_type": "code",
   "execution_count": 13,
   "metadata": {},
   "outputs": [],
   "source": [
    "Z = (Eff/(1.25*3.14*(l/R_e)**(1/3)*(1-3.14*m/l)**6))**2*R0"
   ]
  },
  {
   "cell_type": "code",
   "execution_count": 14,
   "metadata": {},
   "outputs": [],
   "source": [
    "Z_H = (2*3.14*Z*R_e)/(l*Z_0)"
   ]
  }
 ],
 "metadata": {
  "kernelspec": {
   "display_name": "Python 3",
   "language": "python",
   "name": "python3"
  },
  "language_info": {
   "codemirror_mode": {
    "name": "ipython",
    "version": 3
   },
   "file_extension": ".py",
   "mimetype": "text/x-python",
   "name": "python",
   "nbconvert_exporter": "python",
   "pygments_lexer": "ipython3",
   "version": "3.11.6"
  }
 },
 "nbformat": 4,
 "nbformat_minor": 2
}
