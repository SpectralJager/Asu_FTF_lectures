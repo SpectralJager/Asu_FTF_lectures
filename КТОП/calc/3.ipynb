{
 "cells": [
  {
   "cell_type": "code",
   "execution_count": 2,
   "metadata": {},
   "outputs": [],
   "source": [
    "import math\n",
    "\n",
    "l = 99e3\n",
    "m = 20e-3\n",
    "R_e = 0.62*(88e-3*58e-3*20e-3)**(1/3)\n",
    "R_0 = 5\n",
    "Z_e = (377*l)/(2*3.14*R_e)\n",
    "Z_h = (2*3.14*R_e)/(l)*377\n",
    "\n",
    "E_e = 1.25*3.14*(Z_e/R_0)**(1/2)*(l/R_e)**(1/3)*(1-3.14*m/l)**6\n",
    "E_h = 1.25*3.14*(Z_h/R_0)**(1/2)*(l/R_e)**(1/3)*(1-3.14*m/l)**6\n",
    "A_e = 20*math.log10(E_e)\n",
    "A_h = 20*math.log10(E_h)"
   ]
  }
 ],
 "metadata": {
  "kernelspec": {
   "display_name": "Python 3",
   "language": "python",
   "name": "python3"
  },
  "language_info": {
   "codemirror_mode": {
    "name": "ipython",
    "version": 3
   },
   "file_extension": ".py",
   "mimetype": "text/x-python",
   "name": "python",
   "nbconvert_exporter": "python",
   "pygments_lexer": "ipython3",
   "version": "3.11.6"
  }
 },
 "nbformat": 4,
 "nbformat_minor": 2
}
