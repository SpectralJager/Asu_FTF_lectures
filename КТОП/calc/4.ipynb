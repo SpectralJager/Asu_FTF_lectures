{
 "cells": [
  {
   "cell_type": "code",
   "execution_count": 4,
   "metadata": {},
   "outputs": [],
   "source": [
    "KH_r = 0.0115/0.25\n",
    "KH_c = 5/20\n",
    "KH_dd1 = 11e-6/60e-3\n",
    "KH_dd2 = 110/250\n",
    "KH_dd3 = 289/1100\n",
    "KH_dd4 = 35e-6/200e-3\n",
    "KH_dd5 = 80/100\n",
    "KH_dd6 = 80/100"
   ]
  },
  {
   "cell_type": "code",
   "execution_count": 5,
   "metadata": {},
   "outputs": [],
   "source": [
    "L_r = 0.12e-6*KH_r*0.24\n",
    "L_c = 0.45e-6*KH_c*0.34\n",
    "L_dd1 = 0.023e-6*1.38**(40.11-20)*0.267**(1-KH_dd1)\n",
    "L_dd2 = 0.023e-6*1.38**(40.11-20)*0.267**(1-KH_dd2)\n",
    "L_dd3 = 0.023e-6*1.38**(40.11-20)*0.267**(1-KH_dd3)\n",
    "L_dd4 = 0.023e-6*1.38**(40.11-20)*0.267**(1-KH_dd4)\n",
    "L_dd5 = 0.030e-6*1.38**(40.11-20)*0.267**(1-KH_dd5)\n",
    "L_dd6 = 0.018e-6*1.38**(40.11-20)*0.267**(1-KH_dd6)"
   ]
  },
  {
   "cell_type": "code",
   "execution_count": 7,
   "metadata": {},
   "outputs": [],
   "source": [
    "import math\n",
    "L = (L_c+L_r+L_dd1+L_dd2+L_dd3+L_dd4+L_dd5+L_dd6)\n",
    "p = math.e**(-L*1000)"
   ]
  },
  {
   "cell_type": "code",
   "execution_count": 10,
   "metadata": {},
   "outputs": [
    {
     "data": {
      "text/plain": [
       "2.33465985341761e-06"
      ]
     },
     "execution_count": 10,
     "metadata": {},
     "output_type": "execute_result"
    }
   ],
   "source": [
    "0.023e-6*1.38**(38.1-20)*0.267**(1-0.084)"
   ]
  }
 ],
 "metadata": {
  "kernelspec": {
   "display_name": "Python 3",
   "language": "python",
   "name": "python3"
  },
  "language_info": {
   "codemirror_mode": {
    "name": "ipython",
    "version": 3
   },
   "file_extension": ".py",
   "mimetype": "text/x-python",
   "name": "python",
   "nbconvert_exporter": "python",
   "pygments_lexer": "ipython3",
   "version": "3.11.6"
  }
 },
 "nbformat": 4,
 "nbformat_minor": 2
}
