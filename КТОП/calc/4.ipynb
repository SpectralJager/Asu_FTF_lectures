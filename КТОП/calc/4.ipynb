{
 "cells": [
  {
   "cell_type": "code",
   "execution_count": 54,
   "metadata": {},
   "outputs": [],
   "source": [
    "K_m = 1\n",
    "K_vl = 1\n",
    "K_p = 1\n",
    "K_n_RAM = 1\n",
    "K_n_ROM = 1\n",
    "K_n_CPU = 1\n",
    "K_n_ACIA = 1\n",
    "K_n_NOT = 1\n",
    "K_n_OR = 1\n",
    "K_n_R = 4*(0.01/0.25)\n",
    "K_n_C = 3*(3/50)\n",
    "K_n_RES = 1"
   ]
  },
  {
   "cell_type": "code",
   "execution_count": 55,
   "metadata": {},
   "outputs": [],
   "source": [
    "# L_RAM = 38e-6*K_n_RAM*K_m*K_vl*K_p\n",
    "# L_ROM = 20e-6*K_n_ROM*K_m*K_vl*K_p\n",
    "# L_CPU = 17e-6*K_n_CPU*K_m*K_vl*K_p\n",
    "# L_ACIA = 25e-6*K_n_ACIA*K_m*K_vl*K_p\n",
    "# L_NOT = 17e-6*K_n_NOT*K_m*K_vl*K_p\n",
    "# L_OR = 17e-6*K_n_OR*K_m*K_vl*K_p\n",
    "L_RAM = 1e-6*K_n_RAM*K_m*K_vl*K_p\n",
    "L_ROM = 1e-6*K_n_ROM*K_m*K_vl*K_p\n",
    "L_CPU = 1e-6*K_n_CPU*K_m*K_vl*K_p\n",
    "L_ACIA = 1e-6*K_n_ACIA*K_m*K_vl*K_p\n",
    "L_NOT = 1e-6*K_n_NOT*K_m*K_vl*K_p\n",
    "L_OR = 1e-6*K_n_OR*K_m*K_vl*K_p\n",
    "# L_R = 2e-6*K_n_R*K_m*K_vl*K_p\n",
    "L_R = 0.011e-6*K_n_R*K_m*K_vl*K_p\n",
    "L_C = 0.002e-6*K_n_C*K_m*K_vl*K_p\n",
    "L_RES = 0.03e-6*K_n_RES*K_m*K_vl*K_p"
   ]
  },
  {
   "cell_type": "code",
   "execution_count": 56,
   "metadata": {},
   "outputs": [],
   "source": [
    "L = (L_RAM+L_ROM+L_CPU+L_ACIA+L_NOT+L_OR+L_R+L_C+L_RES)"
   ]
  },
  {
   "cell_type": "code",
   "execution_count": 57,
   "metadata": {},
   "outputs": [],
   "source": [
    "import math\n",
    "p = math.e**(-L*1e3)"
   ]
  },
  {
   "cell_type": "code",
   "execution_count": 58,
   "metadata": {},
   "outputs": [],
   "source": [
    "T = 1/L"
   ]
  }
 ],
 "metadata": {
  "kernelspec": {
   "display_name": "Python 3",
   "language": "python",
   "name": "python3"
  },
  "language_info": {
   "codemirror_mode": {
    "name": "ipython",
    "version": 3
   },
   "file_extension": ".py",
   "mimetype": "text/x-python",
   "name": "python",
   "nbconvert_exporter": "python",
   "pygments_lexer": "ipython3",
   "version": "3.11.6"
  }
 },
 "nbformat": 4,
 "nbformat_minor": 2
}
