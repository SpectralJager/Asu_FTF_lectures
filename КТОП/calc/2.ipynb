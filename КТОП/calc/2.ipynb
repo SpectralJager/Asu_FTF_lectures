{
 "cells": [
  {
   "cell_type": "code",
   "execution_count": 39,
   "metadata": {},
   "outputs": [],
   "source": [
    "import math\n",
    "cirSq = lambda r: 2*3.14*r**2;"
   ]
  },
  {
   "cell_type": "code",
   "execution_count": 40,
   "metadata": {},
   "outputs": [],
   "source": [
    "t = 40\n",
    "L1,L2,L3 = 0.1,0.075,0.04\n",
    "S_k = 2*(L1*L2+L1*L3+L2*L3)\n",
    "S_e = 2*(10e-3**2+10e-3*1.4e-3*2)\n",
    "delta_3 = 0.001\n",
    "delta_p = 0.0015\n",
    "lmbda = 0.372\n",
    "N = 6\n",
    "P_o = 1e5\n",
    "P_i = 1e5\n",
    "# V = I*R; R=R_ref[1+a(T-T_ref)]\n",
    "W_total = 5*(40e-3+60e-3+75e-3+100e-3+60e-3+50e-3)*0.90\n",
    "W_e = 5*40e-3*0.90"
   ]
  },
  {
   "cell_type": "code",
   "execution_count": 41,
   "metadata": {},
   "outputs": [],
   "source": [
    "q_k = W_total/S_k"
   ]
  },
  {
   "cell_type": "code",
   "execution_count": 42,
   "metadata": {},
   "outputs": [],
   "source": [
    "K_kp = 0.06**0.33"
   ]
  },
  {
   "cell_type": "code",
   "execution_count": 43,
   "metadata": {},
   "outputs": [],
   "source": [
    "Q_k0 = 0.1472*q_k-0.2962e-3*q_k**2+0.3127e-6*q_k**3"
   ]
  },
  {
   "cell_type": "code",
   "execution_count": 44,
   "metadata": {},
   "outputs": [],
   "source": [
    "K_H1 = 0.82+1/(0.925+4.6e-5*P_o)"
   ]
  },
  {
   "cell_type": "code",
   "execution_count": 45,
   "metadata": {},
   "outputs": [],
   "source": [
    "Q_k = Q_k0*K_H1*K_kp"
   ]
  },
  {
   "cell_type": "code",
   "execution_count": 46,
   "metadata": {},
   "outputs": [],
   "source": [
    "K_3 = ((delta_p+4e-3)*90e-3*65e-3)/((30e-3*90e-3*65e-3)-(28e-3*5e-3*5e-3))"
   ]
  },
  {
   "cell_type": "code",
   "execution_count": 47,
   "metadata": {},
   "outputs": [],
   "source": [
    "q_3 = W_total/(2*(90e-3*65e-3+90e-3*30e-3+65e-3*30e-3))"
   ]
  },
  {
   "cell_type": "code",
   "execution_count": 48,
   "metadata": {},
   "outputs": [],
   "source": [
    "Q_30 = 0.139*q_3-0.1223e-3*q_3**2+0.0698e-6*q_3**3"
   ]
  },
  {
   "cell_type": "code",
   "execution_count": 49,
   "metadata": {},
   "outputs": [],
   "source": [
    "K_H2 = 0.8+1/(1.25+3.8e-5*P_i)"
   ]
  },
  {
   "cell_type": "code",
   "execution_count": 50,
   "metadata": {},
   "outputs": [],
   "source": [
    "Q_3 = Q_k+(Q_30-Q_k0)*K_H2*K_kp"
   ]
  },
  {
   "cell_type": "code",
   "execution_count": 51,
   "metadata": {},
   "outputs": [],
   "source": [
    "Q_B = (Q_3+Q_k)/2"
   ]
  },
  {
   "cell_type": "code",
   "execution_count": 52,
   "metadata": {},
   "outputs": [],
   "source": [
    "R = ((10e-3**2)/math.pi)**0.5"
   ]
  },
  {
   "cell_type": "code",
   "execution_count": 53,
   "metadata": {},
   "outputs": [],
   "source": [
    "m = (2*(5*(P_i/1e5)**0.5+5)/(lmbda*delta_p))"
   ]
  },
  {
   "cell_type": "code",
   "execution_count": 54,
   "metadata": {},
   "outputs": [],
   "source": [
    "K_alpha = 23.54/(4.317+math.log10(S_e))"
   ]
  },
  {
   "cell_type": "code",
   "execution_count": 55,
   "metadata": {},
   "outputs": [],
   "source": [
    "B = (10*math.pi*R)**2"
   ]
  },
  {
   "cell_type": "code",
   "execution_count": 56,
   "metadata": {},
   "outputs": [],
   "source": [
    "_1 = (K_alpha-5)*(P_i/1e5)**0.5+5\n",
    "_2 = (B+1*math.pi*R*lmbda*delta_p*m*0.13623/0.11113)**-1\n",
    "_3 = (delta_3/(0.022*math.pi*R**2)+_2)**-1\n",
    "Q_e = W_e/(_1*(S_e-(10e-3**2))+_3)"
   ]
  },
  {
   "cell_type": "code",
   "execution_count": 57,
   "metadata": {},
   "outputs": [],
   "source": [
    "T_e = Q_e + Q_B +t\n",
    "T_3= Q_3+t\n",
    "T_i = Q_B + t\n",
    "T_k = Q_k + t"
   ]
  }
 ],
 "metadata": {
  "kernelspec": {
   "display_name": "Python 3",
   "language": "python",
   "name": "python3"
  },
  "language_info": {
   "codemirror_mode": {
    "name": "ipython",
    "version": 3
   },
   "file_extension": ".py",
   "mimetype": "text/x-python",
   "name": "python",
   "nbconvert_exporter": "python",
   "pygments_lexer": "ipython3",
   "version": "3.11.6"
  }
 },
 "nbformat": 4,
 "nbformat_minor": 2
}
