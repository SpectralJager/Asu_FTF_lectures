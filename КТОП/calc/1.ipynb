{
 "cells": [
  {
   "cell_type": "code",
   "execution_count": 1,
   "metadata": {},
   "outputs": [],
   "source": [
    "import numpy as np\n",
    "\n",
    "# x = [-14, 16, -15, -1, -21, 9]\n",
    "# y = [19, 24, 1, 0, -19, -19]\n",
    "# m = [10, 1, 0.3, 0.5, 1.3, 3.5]\n",
    "\n",
    "# sx, sy, sm = 0, 0, 0\n",
    "# for i in range(len(x)):\n",
    "#     sx += x[i] * m[i]\n",
    "#     sy += y[i] * m[i]\n",
    "#     sm += m[i]\n",
    "# Xm = sx/sm\n",
    "# Ym = sy/sm\n",
    "\n",
    "x1, x2 = -16.6, 54.4\n",
    "y1, y2 = -47.4, 38.6 \n",
    "\n",
    "m = 556e-3\n",
    "mg = m * 9.8\n",
    "\n",
    "f1 = [1., 1., 1., 1.]\n",
    "f2 = [x1, x1, x2, x2]\n",
    "f3 = [y1, y2, y2, y1]\n",
    "f4 = [x1*y1, x1*y2, x2*y2, x2*y1]\n",
    "\n",
    "M1 = np.array([\n",
    "    f1,\n",
    "    f2,\n",
    "    f3,\n",
    "    f4,\n",
    "])\n",
    "v1 = np.array([mg, 0, 0, 0])\n",
    "P = np.linalg.solve(M1, v1)\n",
    "\n",
    "k = 65000\n",
    "K = 4 * k\n",
    "f0 = (1/(2*3.14)*(K/m)**0.5)\n",
    "gamma = 1e3/f0\n",
    "nu = 1/abs(1-gamma**2)\n",
    "lmbd = (1-nu)*100\n",
    "Z = [p/k for p in P]"
   ]
  }
 ],
 "metadata": {
  "kernelspec": {
   "display_name": "Python 3",
   "language": "python",
   "name": "python3"
  },
  "language_info": {
   "codemirror_mode": {
    "name": "ipython",
    "version": 3
   },
   "file_extension": ".py",
   "mimetype": "text/x-python",
   "name": "python",
   "nbconvert_exporter": "python",
   "pygments_lexer": "ipython3",
   "version": "3.11.6"
  }
 },
 "nbformat": 4,
 "nbformat_minor": 2
}
