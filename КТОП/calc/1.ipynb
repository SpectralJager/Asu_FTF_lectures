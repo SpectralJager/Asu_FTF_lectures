{
 "cells": [
  {
   "cell_type": "code",
   "execution_count": null,
   "metadata": {},
   "outputs": [],
   "source": [
    "import numpy as np\n",
    "\n",
    "x = [-14, 16, -15, -1, -21, 9]\n",
    "y = [19, 24, 1, 0, -19, -19]\n",
    "m = [10, 1, 0.3, 0.5, 1.3, 3.5]\n",
    "\n",
    "sx, sy, sm = 0, 0, 0\n",
    "for i in range(len(x)):\n",
    "    sx += x[i] * m[i]\n",
    "    sy += y[i] * m[i]\n",
    "    sm += m[i]\n",
    "Xm = sx/sm\n",
    "Ym = sy/sm\n",
    "\n",
    "x1, x2 = -35., 50.\n",
    "y1, y2 = -37.5, 22.5\n",
    "\n",
    "m = (sm + 119)/1000\n",
    "mg = m * 9.8\n",
    "d = (x1+x2)*(y1+y2)\n",
    "\n",
    "f1 = [1., 1., 1., 1.]\n",
    "f2 = [x1, x1, x2, x2]\n",
    "f3 = [y1, y2, y2, y1]\n",
    "f4 = [x1*y1, x1*y2, x2*y2, x2*y1]\n",
    "\n",
    "M1 = np.array([\n",
    "    f1,\n",
    "    f2,\n",
    "    f3,\n",
    "    f4,\n",
    "])\n",
    "v1 = np.array([mg, 0, 0, 0])\n",
    "np.linalg.solve(M1, v1)\n",
    "\n",
    "k = 65000\n",
    "K = 4 * k\n",
    "f0 = (1/(2*3.14)*(260000/0.119)**0.5)\n",
    "gamma = 3000/236\n",
    "nu = 1/abs(1-gamma**2)\n",
    "lmbd = (1-nu)*100"
   ]
  }
 ],
 "metadata": {
  "language_info": {
   "name": "python"
  }
 },
 "nbformat": 4,
 "nbformat_minor": 2
}
