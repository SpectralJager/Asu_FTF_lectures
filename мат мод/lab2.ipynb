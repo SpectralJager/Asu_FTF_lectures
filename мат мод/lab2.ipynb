{
 "metadata": {
  "language_info": {
   "codemirror_mode": {
    "name": "ipython",
    "version": 3
   },
   "file_extension": ".py",
   "mimetype": "text/x-python",
   "name": "python",
   "nbconvert_exporter": "python",
   "pygments_lexer": "ipython3",
   "version": "3.8.3-final"
  },
  "orig_nbformat": 2,
  "kernelspec": {
   "name": "python3",
   "display_name": "Python 3.8.3 64-bit",
   "metadata": {
    "interpreter": {
     "hash": "bad1c74c71ff5cf21d67e64bcbc2828bcfef9c0cae90ebe0f8a93c56074ea5d0"
    }
   }
  }
 },
 "nbformat": 4,
 "nbformat_minor": 2,
 "cells": [
  {
   "cell_type": "code",
   "execution_count": 1,
   "metadata": {},
   "outputs": [],
   "source": [
    "from functools import wraps\n",
    "import time\n",
    "import numpy as np\n",
    "\n",
    "def timer(func):\n",
    "    def wrapper(*args, **kwargs):\n",
    "        start = time.time()\n",
    "        temp = func(*args, **kwargs)\n",
    "        end = time.time()\n",
    "        t = end-start\n",
    "        return t, temp\n",
    "    return wrapper"
   ]
  },
  {
   "cell_type": "code",
   "execution_count": 2,
   "metadata": {},
   "outputs": [],
   "source": [
    "@timer\n",
    "def lab2(q,p,a,b):\n",
    "    if q+p > 1:\n",
    "        print('incorrect q and p')\n",
    "        return\n",
    "    rng = np.random.default_rng()\n",
    "    x = 0\n",
    "    p = [q,p,1-(q+p)]\n",
    "    res = None\n",
    "    while True:\n",
    "        direction = rng.choice(['left','right','none'],1,p=p)\n",
    "        if direction == 'left':\n",
    "            x -= 1\n",
    "        elif direction == 'right':\n",
    "            x += 1\n",
    "        if x == -b or x == a:\n",
    "            res = 1 if x == a else 0\n",
    "            break\n",
    "    return res"
   ]
  },
  {
   "cell_type": "code",
   "execution_count": 3,
   "metadata": {},
   "outputs": [],
   "source": [
    "def temp(N):\n",
    "    a, b = 80, 60\n",
    "    q, p = 0.5, 0.5\n",
    "    res = [lab2(q,p,a,b) for _ in range(N)]\n",
    "    return res"
   ]
  },
  {
   "cell_type": "code",
   "execution_count": 4,
   "metadata": {},
   "outputs": [],
   "source": [
    "from queue import Queue\n",
    "from threading import Thread\n",
    "\n",
    "N = 10000\n",
    "que = Queue()\n",
    "threads_list = list()\n",
    "\n",
    "for _ in  range(5):\n",
    "    t = Thread(target=lambda q, arg1: q.put(temp(arg1)), args=(que, N//5))\n",
    "    t.start()\n",
    "    threads_list.append(t)\n",
    "\n",
    "start = time.time()\n",
    " \n",
    "for t in threads_list:\n",
    "    t.join()\n",
    "while not que.empty():\n",
    "    res = que.get()\n",
    "time.time() - start"
   ]
  },
  {
   "cell_type": "code",
   "execution_count": 5,
   "metadata": {},
   "outputs": [
    {
     "output_type": "execute_result",
     "data": {
      "text/plain": [
       "296.1555063724518"
      ]
     },
     "metadata": {},
     "execution_count": 5
    }
   ],
   "source": [
    "start = time.time()\n",
    "res2 = temp(N)\n",
    "time.time() - start"
   ]
  },
  {
   "cell_type": "code",
   "execution_count": null,
   "metadata": {},
   "outputs": [],
   "source": []
  }
 ]
}