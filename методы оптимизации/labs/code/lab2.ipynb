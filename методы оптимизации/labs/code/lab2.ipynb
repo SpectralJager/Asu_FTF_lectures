{
 "cells": [
  {
   "cell_type": "code",
   "execution_count": 1,
   "metadata": {},
   "outputs": [],
   "source": [
    "import numpy as np"
   ]
  },
  {
   "cell_type": "code",
   "execution_count": 2,
   "metadata": {},
   "outputs": [],
   "source": [
    "prices = np.array([\n",
    "    [15,3,23,6,0],\n",
    "    [1,4,17,8,0],\n",
    "    [9,13,14,7,0],\n",
    "],dtype=int)\n",
    "have = np.array([70,47,38])\n",
    "need = np.array([20,30,40,50,15])\n",
    "north_west = np.array([\n",
    "    [20,30,20,00,00],\n",
    "    [00,00,20,27,00],\n",
    "    [00,00,00,23,15]\n",
    "])"
   ]
  },
  {
   "cell_type": "code",
   "execution_count": 3,
   "metadata": {},
   "outputs": [
    {
     "name": "stdout",
     "output_type": "stream",
     "text": [
      "Have\n",
      "\n",
      "70 : 70\n",
      "47 : 47\n",
      "38 : 38\n",
      "\n",
      "Need\n",
      "\n",
      "20 : 20\n",
      "30 : 30\n",
      "40 : 40\n",
      "50 : 50\n",
      "15 : 15\n",
      "[[15  3 23  0  0]\n",
      " [ 0  0 17  8  0]\n",
      " [ 0  0  0  7  0]]\n",
      "[ 0 -6 -7]\n",
      "[15  3 23 14  7]\n",
      "\n",
      "[[ 0  0  0 -8 -7]\n",
      " [-8  7  0  0 -1]\n",
      " [ 1 17 -2  0  0]]\n"
     ]
    }
   ],
   "source": [
    "north_west = np.array([\n",
    "    [20,30,20,00,00],\n",
    "    [00,00,20,27,00],\n",
    "    [00,00,00,23,15]\n",
    "])\n",
    "print('Have\\n')\n",
    "for i in range(0,3):\n",
    "    print(f\"{have[i]} : {np.sum(north_west[i,:])}\")\n",
    "print('\\nNeed\\n')\n",
    "for i in range(0,5):\n",
    "    print(f\"{need[i]} : {np.sum(north_west[:,i])}\")\n",
    "        \n",
    "U = np.zeros(3,int)\n",
    "V = np.zeros(5,int)\n",
    "\n",
    "pot = np.zeros((3,5),int)\n",
    "\n",
    "for i in range(0,3):\n",
    "    for j in range(0,5):\n",
    "        if(north_west[i,j] != 0):\n",
    "            pot[i,j] = prices[i,j]\n",
    "            if(i==0):\n",
    "                V[j] = prices[i,j]\n",
    "            elif(U[i] == 0 and i != 0):\n",
    "                U[i] = prices[i,j] - V[j]\n",
    "            elif(V[j] == 0):\n",
    "                V[j] = prices[i,j] - U[i] \n",
    "print(pot,U,V,sep='\\n', end='\\n\\n')\n",
    "\n",
    "delt = np.zeros((3,5),int)\n",
    "for i in range(0,3):\n",
    "    for j in range(0,5):\n",
    "        delt[i,j] = prices[i,j] - U[i] - V[j]\n",
    "print(delt)\n",
    "\n"
   ]
  }
 ],
 "metadata": {
  "interpreter": {
   "hash": "034ebe6e011431ded401f6e08d45af542d9aa854d56af5c1056dfc37504b49c6"
  },
  "kernelspec": {
   "display_name": "Python 3.10.1 64-bit",
   "language": "python",
   "name": "python3"
  },
  "language_info": {
   "codemirror_mode": {
    "name": "ipython",
    "version": 3
   },
   "file_extension": ".py",
   "mimetype": "text/x-python",
   "name": "python",
   "nbconvert_exporter": "python",
   "pygments_lexer": "ipython3",
   "version": "3.10.1"
  },
  "orig_nbformat": 4
 },
 "nbformat": 4,
 "nbformat_minor": 2
}
