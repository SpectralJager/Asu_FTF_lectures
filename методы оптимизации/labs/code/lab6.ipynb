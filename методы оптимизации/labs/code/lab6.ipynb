{
 "cells": [
  {
   "cell_type": "code",
   "execution_count": 41,
   "metadata": {},
   "outputs": [],
   "source": [
    "import numpy as np\n",
    "from scipy.optimize import linprog"
   ]
  },
  {
   "cell_type": "code",
   "execution_count": 42,
   "metadata": {},
   "outputs": [],
   "source": [
    "A = np.array([\n",
    "    [8.3, 4.9, 4.8, 25.2, 18.2, 16, 0.5, 0.9, 1.5, 0.4],\n",
    "    [1.2, 1, 2.8, 26.3, 18.4, 0.6, 82.5, 0.2, 0.1, 0.4],\n",
    "    [71.6, 46, 77.7, 0, 0.7, 0, 0.8, 6.5, 9.1, 9.8],\n",
    "    [0.2,  0, 0, 0.17, 0, 0, 0.38, 0.02, 0.01, 0.03],\n",
    "    [0, 0, 0,0.23, 0.07, 0.01, 0.59, 0, 0, 0],\n",
    "    [0.13, 0.09, 0.08, 0.03, 0.07, 0.09, 0, 0.05, 0.02, 0.03],\n",
    "    [0.07, 0.03, 0.04, 0.36, 0.15, 0.16, 0.1, 0.03, 0.04, 0.02],\n",
    "    [1.1, 0.68, 0.57, 0.2, 7.7, 2.3, 0.05, 0.23, 0.2, 0.3],\n",
    "    [0, 0, 0, 3, 0, 1, 0, 45, 10, 13],\n",
    "])*-1\n",
    "b = np.array([\n",
    "     96, 106, 420, 0.19*(10**-3), 660*(10**-3), 1.6*(10**-3), 1.9*(10**-3), 20*(10**-3), 95*(10**-3)\n",
    "])*-100\n",
    "bounds = (0, None)\n",
    "P = np.array([\n",
    "    1.5, 4.5, 1.2, 1, 8, 1.5, 3, 2, 6, 9\n",
    "])\n",
    "E = np.array([337, 220, 350, 345, 241, 69, 748, 35, 42,  45])\n",
    "\n",
    "c = P*100"
   ]
  },
  {
   "cell_type": "code",
   "execution_count": 43,
   "metadata": {},
   "outputs": [],
   "source": [
    "temp = linprog(c=c, A_ub=A, b_ub=b, bounds=bounds)\n",
    "x = temp['x']"
   ]
  },
  {
   "cell_type": "code",
   "execution_count": 44,
   "metadata": {},
   "outputs": [],
   "source": [
    "K = E.dot(x)/100"
   ]
  },
  {
   "cell_type": "code",
   "execution_count": 45,
   "metadata": {},
   "outputs": [],
   "source": [
    "Pr = P.dot(x)/100"
   ]
  }
 ],
 "metadata": {
  "interpreter": {
   "hash": "034ebe6e011431ded401f6e08d45af542d9aa854d56af5c1056dfc37504b49c6"
  },
  "kernelspec": {
   "display_name": "Python 3.10.1 64-bit",
   "language": "python",
   "name": "python3"
  },
  "language_info": {
   "codemirror_mode": {
    "name": "ipython",
    "version": 3
   },
   "file_extension": ".py",
   "mimetype": "text/x-python",
   "name": "python",
   "nbconvert_exporter": "python",
   "pygments_lexer": "ipython3",
   "version": "3.10.1"
  },
  "orig_nbformat": 4
 },
 "nbformat": 4,
 "nbformat_minor": 2
}
