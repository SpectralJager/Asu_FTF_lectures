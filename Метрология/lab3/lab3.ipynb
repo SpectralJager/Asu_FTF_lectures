{
 "metadata": {
  "language_info": {
   "codemirror_mode": {
    "name": "ipython",
    "version": 3
   },
   "file_extension": ".py",
   "mimetype": "text/x-python",
   "name": "python",
   "nbconvert_exporter": "python",
   "pygments_lexer": "ipython3",
   "version": "3.8.8-final"
  },
  "orig_nbformat": 2,
  "kernelspec": {
   "name": "python388jvsc74a57bd0cb45f1ee981e53b438a04310c26d115d7f9e7a61965f26e5ee771a091418524a",
   "display_name": "Python 3.8.8 64-bit ('Scienc': venv)",
   "language": "python"
  }
 },
 "nbformat": 4,
 "nbformat_minor": 2,
 "cells": [
  {
   "cell_type": "code",
   "execution_count": 2,
   "metadata": {},
   "outputs": [],
   "source": [
    "import random\n",
    "import numpy as np\n",
    "import pandas as pd\n",
    "import xlsxwriter\n",
    "np.set_printoptions(suppress=True)"
   ]
  },
  {
   "cell_type": "code",
   "execution_count": 3,
   "metadata": {},
   "outputs": [],
   "source": [
    "y = np.array([1729, 1794, 1748, 1582, 1590, 1628, 1798, 1342, 1652, 1302, 1805, 1889, 1572, 1619, 1894, 1631, 1471, 1468, 1534, 1607, 1370, 1431, 1395, 1374, 1745, 1721, 1812, 1617, 1316, 1899, 1833, 1322, 1877, 1585, 1408, 1785, 1884, 1719, 1586, 1352, 1346, 1727, 1703, 1806, 1492, 1759, 1614, 1707, 1810, 1423, 1312, 1675, 1635, 1451, 1891, 1304, 1872, 1677, 1754, 1621])\n",
    "x = np.arange(1,1+len(y))"
   ]
  },
  {
   "cell_type": "code",
   "execution_count": 4,
   "metadata": {},
   "outputs": [
    {
     "output_type": "stream",
     "name": "stderr",
     "text": [
      "<ipython-input-4-ec3b76d76998>:3: RuntimeWarning: overflow encountered in int_scalars\n  b = (np.sum(x**2)*np.sum(y) - np.sum(x)*np.sum([x[i]*y[i] for i in range(n)]))/(n*np.sum(x**2) - np.sum(x)**2)\n<ipython-input-4-ec3b76d76998>:3: RuntimeWarning: overflow encountered in long_scalars\n  b = (np.sum(x**2)*np.sum(y) - np.sum(x)*np.sum([x[i]*y[i] for i in range(n)]))/(n*np.sum(x**2) - np.sum(x)**2)\n"
     ]
    }
   ],
   "source": [
    "n = 60\n",
    "a = (n*np.sum([x[i]*y[i] for i in range(n)]) - np.sum(x)*np.sum(y))/(n*np.sum(x**2) - np.sum(x)**2)\n",
    "b = (np.sum(x**2)*np.sum(y) - np.sum(x)*np.sum([x[i]*y[i] for i in range(n)]))/(n*np.sum(x**2) - np.sum(x)**2)"
   ]
  },
  {
   "cell_type": "code",
   "execution_count": 5,
   "metadata": {},
   "outputs": [],
   "source": [
    "y2 = np.array([a*x[i]+b for i in range(n)])"
   ]
  },
  {
   "cell_type": "code",
   "execution_count": 5,
   "metadata": {},
   "outputs": [
    {
     "output_type": "stream",
     "name": "stderr",
     "text": [
      "<ipython-input-5-5dc3605ec510>:1: RuntimeWarning: overflow encountered in int_scalars\n  So = np.sum(y**2)/(n-2) - np.sum(y)**2/(n*(n-2)) - (n*np.sum([x[i]*y[i] for i in range(n)]) - np.sum(x)*np.sum(y))**2/(n*(n-2)*(n*np.sum(x**2) - np.sum(x)**2))\n"
     ]
    }
   ],
   "source": [
    "So = np.sum(y**2)/(n-2) - np.sum(y)**2/(n*(n-2)) - (n*np.sum([x[i]*y[i] for i in range(n)]) - np.sum(x)*np.sum(y))**2/(n*(n-2)*(n*np.sum(x**2) - np.sum(x)**2))\n",
    "Sa = So/(n*np.sum(x**2) - np.sum(x)**2)\n",
    "Sb = (So*np.sum(x**2))/(n*np.sum(x**2) - np.sum(x)**2)"
   ]
  },
  {
   "cell_type": "code",
   "execution_count": 6,
   "metadata": {},
   "outputs": [],
   "source": [
    "data_pd = pd.DataFrame()\n",
    "data_pd['X'] = x\n",
    "data_pd['Y'] = y\n",
    "data_pd['Y2'] = y2\n",
    "data_pd['Y2+d'] = np.array([(a+np.sqrt(Sa))*x[i]+(b+np.sqrt(Sb)) for i in range(n)])\n",
    "data_pd['Y2-d'] = np.array([(a-np.sqrt(Sa))*x[i]+(b-np.sqrt(Sb)) for i in range(n)])"
   ]
  },
  {
   "cell_type": "code",
   "execution_count": 7,
   "metadata": {},
   "outputs": [],
   "source": [
    "data_pd2 = pd.DataFrame()\n",
    "data_pd2['a'] = ['b','So','Sa','Sb']\n",
    "data_pd2[f'{a}'] = [b,np.sqrt(So),np.sqrt(Sa),np.sqrt(Sb)]"
   ]
  },
  {
   "cell_type": "code",
   "execution_count": 8,
   "metadata": {},
   "outputs": [],
   "source": [
    "data_pd = pd.concat([data_pd,data_pd2],axis=1)"
   ]
  },
  {
   "cell_type": "code",
   "execution_count": 9,
   "metadata": {},
   "outputs": [],
   "source": [
    "with pd.ExcelWriter('lab3.xlsx') as writer:\n",
    "    data_pd.to_excel(writer,index=None, sheet_name='lab3')"
   ]
  }
 ]
}