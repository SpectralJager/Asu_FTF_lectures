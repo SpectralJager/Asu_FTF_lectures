{
 "metadata": {
  "language_info": {
   "codemirror_mode": {
    "name": "ipython",
    "version": 3
   },
   "file_extension": ".py",
   "mimetype": "text/x-python",
   "name": "python",
   "nbconvert_exporter": "python",
   "pygments_lexer": "ipython3",
   "version": "3.8.3-final"
  },
  "orig_nbformat": 2,
  "kernelspec": {
   "name": "python3",
   "display_name": "Python 3.8.3 64-bit",
   "metadata": {
    "interpreter": {
     "hash": "bad1c74c71ff5cf21d67e64bcbc2828bcfef9c0cae90ebe0f8a93c56074ea5d0"
    }
   }
  }
 },
 "nbformat": 4,
 "nbformat_minor": 2,
 "cells": [
  {
   "cell_type": "code",
   "execution_count": 1,
   "metadata": {},
   "outputs": [],
   "source": [
    "import random\n",
    "import numpy as np\n",
    "import pandas as pd\n",
    "np.set_printoptions(suppress=True)"
   ]
  },
  {
   "cell_type": "code",
   "execution_count": 2,
   "metadata": {},
   "outputs": [],
   "source": [
    "x = np.array([1729, 1794, 1748, 1582, 1590, 1628, 1798, 1342, 1652, 1302, 1805, 1889, 1572, 1619, 1894, 1631, 1471, 1468, 1534, 1607, 1370, 1431, 1395, 1374, 1745, 1721, 1812, 1617, 1316, 1899, 1833, 1322, 1877, 1585, 1408, 1785, 1884, 1719, 1586, 1352, 1346, 1727, 1703, 1806, 1492, 1759, 1614, 1707, 1810, 1423, 1312, 1675, 1635, 1451, 1891, 1304, 1872, 1677, 1754, 1621])#random.sample(range(1300,1900),60)"
   ]
  },
  {
   "cell_type": "code",
   "execution_count": 5,
   "metadata": {},
   "outputs": [],
   "source": [
    "P = 1/len(x)\n",
    "x_m = P * sum(x)"
   ]
  },
  {
   "cell_type": "code",
   "execution_count": 7,
   "metadata": {},
   "outputs": [],
   "source": [
    "dx = x - x_m"
   ]
  },
  {
   "cell_type": "code",
   "execution_count": 9,
   "metadata": {},
   "outputs": [],
   "source": [
    "s = np.sqrt(P * np.sum(dx**2))"
   ]
  },
  {
   "cell_type": "code",
   "execution_count": 11,
   "metadata": {},
   "outputs": [],
   "source": [
    "m3 = P * np.sum(dx**3)"
   ]
  },
  {
   "cell_type": "code",
   "execution_count": 13,
   "metadata": {},
   "outputs": [],
   "source": [
    "m4 = P * np.sum(dx**4)"
   ]
  },
  {
   "cell_type": "code",
   "execution_count": 15,
   "metadata": {},
   "outputs": [],
   "source": [
    "k_asim = m3/(s**3)"
   ]
  },
  {
   "cell_type": "code",
   "execution_count": 17,
   "metadata": {},
   "outputs": [],
   "source": [
    "k_es = m4/(s**4) - 3"
   ]
  },
  {
   "cell_type": "code",
   "execution_count": 19,
   "metadata": {},
   "outputs": [],
   "source": [
    "data_pd = pd.DataFrame()\n",
    "res = pd.DataFrame()\n",
    "res['S - СКО'] = [\n",
    "    'm3',\n",
    "    'm4',\n",
    "    'S^2',\n",
    "    'S^3',\n",
    "    'S^4',\n",
    "    'K асиметрии',\n",
    "    'Ексцecc',\n",
    "    'X_', \n",
    "]\n",
    "res[f'{round(s,4)}'] = [\n",
    "    round(m3,4),\n",
    "    round(m4,4),\n",
    "    round(s**2,4),\n",
    "    round(s**3,4),\n",
    "    round(s**4,4),\n",
    "    round(k_asim,4),\n",
    "    round(k_es,4),\n",
    "    round(x_m,4)\n",
    "]\n",
    "data_pd['№'] = np.arange(1,61,dtype='int')\n",
    "data_pd['X'] = x\n",
    "data_pd['X - X_'] = dx\n",
    "data_pd['(X - X_)^2'] = dx**2\n",
    "data_pd['(X - X_)^3'] = dx**3\n",
    "data_pd['(X - X_)^4'] = dx**4\n",
    "\n",
    "res = pd.concat([data_pd,res], axis=1)\n",
    "\n",
    "\n"
   ]
  },
  {
   "cell_type": "code",
   "execution_count": 21,
   "metadata": {},
   "outputs": [],
   "source": [
    "with pd.ExcelWriter('lab1.xlsx') as writer: \n",
    "    res.to_excel(writer,index=None, sheet_name='lab1')\n"
   ]
  }
 ]
}