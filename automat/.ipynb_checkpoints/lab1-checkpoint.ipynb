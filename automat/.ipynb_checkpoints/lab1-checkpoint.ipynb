{
 "cells": [
  {
   "cell_type": "markdown",
   "id": "1b848610-0777-4937-9d9b-90a374de04d5",
   "metadata": {},
   "source": [
    "вариант 3\n"
   ]
  },
  {
   "cell_type": "code",
   "execution_count": 1,
   "id": "a68f88b9-a3f3-485c-9e68-28f88d9e5a91",
   "metadata": {},
   "outputs": [],
   "source": [
    "n2 = 1.2\n",
    "n1 = 1.08 \n",
    "n0 = 0.096 \n",
    "d2 = 2.3727 \n",
    "d1 = 2.2264 \n",
    "d0 = 0.9091 "
   ]
  },
  {
   "cell_type": "code",
   "execution_count": 2,
   "id": "78789a72-31fe-4f12-96a0-c17eeca3e9a3",
   "metadata": {},
   "outputs": [],
   "source": [
    "import numpy as np\n",
    "import control as c\n",
    "import matplotlib.pyplot as plt"
   ]
  },
  {
   "cell_type": "code",
   "execution_count": 3,
   "id": "dfcc5b20-2763-4713-92bc-3094d48a2f13",
   "metadata": {},
   "outputs": [
    {
     "ename": "NameError",
     "evalue": "name 'n2' is not defined",
     "output_type": "error",
     "traceback": [
      "\u001b[0;31m---------------------------------------------------------------------------\u001b[0m",
      "\u001b[0;31mNameError\u001b[0m                                 Traceback (most recent call last)",
      "Cell \u001b[0;32mIn [3], line 1\u001b[0m\n\u001b[0;32m----> 1\u001b[0m n \u001b[38;5;241m=\u001b[39m np\u001b[38;5;241m.\u001b[39marray([\u001b[43mn2\u001b[49m, n1, n0])\n\u001b[1;32m      2\u001b[0m d \u001b[38;5;241m=\u001b[39m np\u001b[38;5;241m.\u001b[39marray([\u001b[38;5;241m1\u001b[39m, d2, d1, d0])\n\u001b[1;32m      3\u001b[0m f \u001b[38;5;241m=\u001b[39m c\u001b[38;5;241m.\u001b[39mtf()\n",
      "\u001b[0;31mNameError\u001b[0m: name 'n2' is not defined"
     ]
    }
   ],
   "source": [
    "n = np.array([n2, n1, n0])\n",
    "d = np.array([1, d2, d1, d0])\n",
    "f = c.tf()"
   ]
  },
  {
   "cell_type": "code",
   "execution_count": null,
   "id": "daf83c47-a41d-46c7-847e-2e25092b4718",
   "metadata": {},
   "outputs": [],
   "source": []
  }
 ],
 "metadata": {
  "kernelspec": {
   "display_name": "Python 3 (ipykernel)",
   "language": "python",
   "name": "python3"
  },
  "language_info": {
   "codemirror_mode": {
    "name": "ipython",
    "version": 3
   },
   "file_extension": ".py",
   "mimetype": "text/x-python",
   "name": "python",
   "nbconvert_exporter": "python",
   "pygments_lexer": "ipython3",
   "version": "3.10.5"
  }
 },
 "nbformat": 4,
 "nbformat_minor": 5
}
